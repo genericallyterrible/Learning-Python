{
    "cells": [
        {
            "cell_type": "markdown",
            "metadata": {},
            "source": [
                "# Strings"
            ]
        },
        {
            "cell_type": "markdown",
            "metadata": {},
            "source": [
                "## Declarations"
            ]
        },
        {
            "cell_type": "markdown",
            "metadata": {},
            "source": [
                "### Standard"
            ]
        },
        {
            "cell_type": "markdown",
            "metadata": {},
            "source": [
                "Strings can be declared with either single (`'...'`) or double quotes (`\"...\"`), whichever makes life easier!  \n",
                "`\\` can be used to escape characters and quotes."
            ]
        },
        {
            "cell_type": "code",
            "execution_count": 1,
            "metadata": {},
            "outputs": [
                {
                    "name": "stdout",
                    "output_type": "stream",
                    "text": [
                        "hello\n",
                        "hello\n",
                        "Don't worry about apostrophes\n",
                        "One time I said, \"Hello, World!\"\n"
                    ]
                }
            ],
            "source": [
                "mystring = \"hello\"\n",
                "print(mystring)\n",
                "mystring = \"hello\"\n",
                "print(mystring)\n",
                "mystring = \"Don't worry about apostrophes\"\n",
                "print(mystring)\n",
                "mystring = 'One time I said, \"Hello, World!\"'\n",
                "print(mystring)\n"
            ]
        },
        {
            "cell_type": "markdown",
            "metadata": {},
            "source": [
                "### Raw"
            ]
        },
        {
            "cell_type": "markdown",
            "metadata": {},
            "source": [
                "Raw strings won't interpret characters prefixed by `\\` as special characters"
            ]
        },
        {
            "cell_type": "code",
            "execution_count": 2,
            "metadata": {},
            "outputs": [
                {
                    "name": "stdout",
                    "output_type": "stream",
                    "text": [
                        "C:\\some\n",
                        "ame\n",
                        "C:\\some\\name\n"
                    ]
                }
            ],
            "source": [
                "mystring = \"C:\\some\\name\"  # \\n generates a newline!\n",
                "print(mystring)\n",
                "mystring = r\"C:\\some\\name\"  # \\n is printed as \\n!\n",
                "print(mystring)\n"
            ]
        },
        {
            "cell_type": "markdown",
            "metadata": {},
            "source": [
                "### Multi-line"
            ]
        },
        {
            "cell_type": "markdown",
            "metadata": {},
            "source": [
                "String literals can span multiple lines with tripple quotes: `\"\"\"...\"\"\"` or `'''...'''`.  \n",
                "End of lines are automatically included unless a \\ is included at the end of the line."
            ]
        },
        {
            "cell_type": "code",
            "execution_count": 3,
            "metadata": {},
            "outputs": [
                {
                    "name": "stdout",
                    "output_type": "stream",
                    "text": [
                        "This is my multiline string literal!\n",
                        "    It is very handy for creating messages,\n",
                        "    especially complex ones!\n"
                    ]
                }
            ],
            "source": [
                "mystring = \"\"\"\\\n",
                "This is my multiline string literal!\n",
                "    It is very handy for creating messages,\n",
                "    especially complex ones!\\\n",
                "\"\"\"\n",
                "print(mystring)\n"
            ]
        },
        {
            "cell_type": "markdown",
            "metadata": {},
            "source": [
                "## Concatenation"
            ]
        },
        {
            "cell_type": "markdown",
            "metadata": {},
            "source": [
                "Strings can be concatenated with the `+` operator, and repeated with `*`"
            ]
        },
        {
            "cell_type": "code",
            "execution_count": 4,
            "metadata": {},
            "outputs": [
                {
                    "data": {
                        "text/plain": [
                            "'un-un-un-ium'"
                        ]
                    },
                    "execution_count": 4,
                    "metadata": {},
                    "output_type": "execute_result"
                }
            ],
            "source": [
                "3 * \"un-\" + \"ium\"\n"
            ]
        },
        {
            "cell_type": "markdown",
            "metadata": {},
            "source": [
                "Two or more string literals next to each other are automatically concatenated.  \n",
                "This *ONLY* works with string literals, variables and expressions must be concatenated with `+`"
            ]
        },
        {
            "cell_type": "code",
            "execution_count": 5,
            "metadata": {},
            "outputs": [
                {
                    "data": {
                        "text/plain": [
                            "'Python'"
                        ]
                    },
                    "execution_count": 5,
                    "metadata": {},
                    "output_type": "execute_result"
                }
            ],
            "source": [
                "\"Py\" \"thon\"\n"
            ]
        },
        {
            "cell_type": "markdown",
            "metadata": {},
            "source": [
                "## Indexing"
            ]
        },
        {
            "cell_type": "markdown",
            "metadata": {},
            "source": [
                "Strings can be indexed (subscripted), with the first character having index 0. There is no separate character type; a character is simply a string of size one  \n",
                "Indices may also be negative numbers, to start counting from the right (Note that since -0 is the same as 0, negative indices start from -1.)"
            ]
        },
        {
            "cell_type": "code",
            "execution_count": 6,
            "metadata": {},
            "outputs": [
                {
                    "name": "stdout",
                    "output_type": "stream",
                    "text": [
                        "P\n",
                        "n\n",
                        "n\n",
                        "o\n",
                        "P\n"
                    ]
                }
            ],
            "source": [
                "word = \"Python\"\n",
                "print(word[0])  # character in position 0\n",
                "\n",
                "print(word[5])  # character in position 5\n",
                "\n",
                "print(word[-1])  # last character\n",
                "\n",
                "print(word[-2])  # second-last character\n",
                "\n",
                "print(word[-6])\n"
            ]
        },
        {
            "cell_type": "markdown",
            "metadata": {},
            "source": [
                "## Slicing"
            ]
        },
        {
            "cell_type": "markdown",
            "metadata": {},
            "source": [
                "While indexing is used to obtain individual characters, slicing allows you to obtain substring"
            ]
        },
        {
            "cell_type": "code",
            "execution_count": 7,
            "metadata": {},
            "outputs": [
                {
                    "name": "stdout",
                    "output_type": "stream",
                    "text": [
                        "Py\n",
                        "tho\n"
                    ]
                }
            ],
            "source": [
                "word = \"Python\"\n",
                "\n",
                "print(word[0:2])  # characters from position 0 (included) to 2 (excluded)\n",
                "print(word[2:5])  # characters from position 2 (included) to 5 (excluded)\n"
            ]
        },
        {
            "cell_type": "markdown",
            "metadata": {},
            "source": [
                "Slice indices have useful defaults; an omitted first index defaults to zero, an omitted second index defaults to the size of the string being sliced."
            ]
        },
        {
            "cell_type": "code",
            "execution_count": 8,
            "metadata": {},
            "outputs": [
                {
                    "name": "stdout",
                    "output_type": "stream",
                    "text": [
                        "Py\n",
                        "on\n",
                        "on\n"
                    ]
                }
            ],
            "source": [
                "word = \"Python\"\n",
                "\n",
                "print(word[:2])  # character from the beginning to position 2 (excluded)\n",
                "print(word[4:])  # characters from position 4 (included) to the end\n",
                "print(word[-2:])  # characters from the second-last (included) to the end\n"
            ]
        },
        {
            "cell_type": "markdown",
            "metadata": {},
            "source": [
                "Note how the start is always included, and the end always excluded. This makes sure that `s[:i] + s[i:]` is always equal to `s`."
            ]
        },
        {
            "cell_type": "code",
            "execution_count": 9,
            "metadata": {},
            "outputs": [
                {
                    "name": "stdout",
                    "output_type": "stream",
                    "text": [
                        "Python\n",
                        "Python\n"
                    ]
                }
            ],
            "source": [
                "word = \"Python\"\n",
                "\n",
                "print(word[:2] + word[2:])\n",
                "print(word[:4] + word[4:])\n"
            ]
        },
        {
            "cell_type": "markdown",
            "metadata": {},
            "source": [
                "Out of range slice indexes are handled gracefully."
            ]
        },
        {
            "cell_type": "code",
            "execution_count": 10,
            "metadata": {},
            "outputs": [
                {
                    "name": "stdout",
                    "output_type": "stream",
                    "text": [
                        "on\n",
                        "\n"
                    ]
                }
            ],
            "source": [
                "word = \"Python\"\n",
                "\n",
                "print(word[4:42])\n",
                "print(word[42:])\n"
            ]
        }
    ],
    "metadata": {
        "kernelspec": {
            "display_name": "Python 3.10.5 ('.venv': venv)",
            "language": "python",
            "name": "python3"
        },
        "language_info": {
            "codemirror_mode": {
                "name": "ipython",
                "version": 3
            },
            "file_extension": ".py",
            "mimetype": "text/x-python",
            "name": "python",
            "nbconvert_exporter": "python",
            "pygments_lexer": "ipython3",
            "version": "3.10.6"
        },
        "orig_nbformat": 4,
        "vscode": {
            "interpreter": {
                "hash": "72514b75157ecb97d824086b3515161c701b7836d1d87e524784df4edf83d3f3"
            }
        }
    },
    "nbformat": 4,
    "nbformat_minor": 2
}
