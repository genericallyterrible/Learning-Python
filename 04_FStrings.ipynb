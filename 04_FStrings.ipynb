{
 "cells": [
  {
   "cell_type": "code",
   "execution_count": 1,
   "metadata": {},
   "outputs": [],
   "source": [
    "import sys\n",
    "from typing import Union\n",
    "\n",
    "from rich import print as rprint"
   ]
  },
  {
   "cell_type": "markdown",
   "metadata": {},
   "source": [
    "# F-Strings"
   ]
  },
  {
   "cell_type": "markdown",
   "metadata": {},
   "source": [
    "A formatted string literal or f-string is a string literal that is prefixed with `'f'` or `'F'`. These strings may contain replacement fields, which are expressions delimited by curly braces `{}`. While other string literals always have a constant value, formatted strings are really expressions evaluated at run time.\n",
    "\n",
    "Escape sequences are decoded like in ordinary string literals (except when a literal is also marked as a raw string).\n",
    "\n",
    "The parts of the string outside curly braces are treated literally, except that any doubled curly braces `'{{'` or `'}}'` are replaced with the corresponding single curly brace.\n",
    "\n",
    "To display both the expression text and its value after evaluation, (useful in debugging), an equal sign `'='` may be added after the expression. By default, the `'='` causes the `repr()` of the expression to be provided, unless there is a format specified. When a format is specified it defaults to the `str()` of the expression unless a conversion `'!r'` is declared.\n",
    "\n",
    "A conversion field, introduced by an exclamation point `'!'` may follow. If a conversion is specified, the result of evaluating the expression is converted before formatting. Conversion `'!s'` calls `str()` on the result, `'!r'` calls `repr()`, and `'!a'` calls `ascii()`.\n",
    "\n",
    "A format specifier may also be appended, introduced by a colon `':'`. This is described in the next section."
   ]
  },
  {
   "cell_type": "code",
   "execution_count": 2,
   "metadata": {},
   "outputs": [
    {
     "name": "stdout",
     "output_type": "stream",
     "text": [
      "He said his name is 'Fred'.\n",
      "result:      12.35\n"
     ]
    },
    {
     "data": {
      "text/html": [
       "<pre style=\"white-space:pre;overflow-x:auto;line-height:normal;font-family:Menlo,'DejaVu Sans Mono',consolas,'Courier New',monospace\">today = <span style=\"color: #800080; text-decoration-color: #800080; font-weight: bold\">datetime.datetime</span><span style=\"font-weight: bold\">(</span><span style=\"color: #008080; text-decoration-color: #008080; font-weight: bold\">2021</span>, <span style=\"color: #008080; text-decoration-color: #008080; font-weight: bold\">8</span>, <span style=\"color: #008080; text-decoration-color: #008080; font-weight: bold\">26</span>, <span style=\"color: #008080; text-decoration-color: #008080; font-weight: bold\">0</span>, <span style=\"color: #008080; text-decoration-color: #008080; font-weight: bold\">0</span><span style=\"font-weight: bold\">)</span>\n",
       "</pre>\n"
      ],
      "text/plain": [
       "today = \u001b[1;35mdatetime.datetime\u001b[0m\u001b[1m(\u001b[0m\u001b[1;36m2021\u001b[0m, \u001b[1;36m8\u001b[0m, \u001b[1;36m26\u001b[0m, \u001b[1;36m0\u001b[0m, \u001b[1;36m0\u001b[0m\u001b[1m)\u001b[0m\n"
      ]
     },
     "metadata": {},
     "output_type": "display_data"
    },
    {
     "data": {
      "text/html": [
       "<pre style=\"white-space:pre;overflow-x:auto;line-height:normal;font-family:Menlo,'DejaVu Sans Mono',consolas,'Courier New',monospace\"><span style=\"color: #008000; text-decoration-color: #008000\">'August 26, 2021'</span>\n",
       "</pre>\n"
      ],
      "text/plain": [
       "\u001b[32m'August 26, 2021'\u001b[0m\n"
      ]
     },
     "metadata": {},
     "output_type": "display_data"
    },
    {
     "data": {
      "text/html": [
       "<pre style=\"white-space:pre;overflow-x:auto;line-height:normal;font-family:Menlo,'DejaVu Sans Mono',consolas,'Courier New',monospace\"><span style=\"color: #008000; text-decoration-color: #008000\">'today = August 26, 2021'</span>\n",
       "</pre>\n"
      ],
      "text/plain": [
       "\u001b[32m'today = August 26, 2021'\u001b[0m\n"
      ]
     },
     "metadata": {},
     "output_type": "display_data"
    },
    {
     "data": {
      "text/html": [
       "<pre style=\"white-space:pre;overflow-x:auto;line-height:normal;font-family:Menlo,'DejaVu Sans Mono',consolas,'Courier New',monospace\"><span style=\"color: #008000; text-decoration-color: #008000\">\"  foo =  'bar'\"</span>\n",
       "</pre>\n"
      ],
      "text/plain": [
       "\u001b[32m\"  foo =  'bar'\"\u001b[0m\n"
      ]
     },
     "metadata": {},
     "output_type": "display_data"
    },
    {
     "data": {
      "text/html": [
       "<pre style=\"white-space:pre;overflow-x:auto;line-height:normal;font-family:Menlo,'DejaVu Sans Mono',consolas,'Courier New',monospace\">Default repr = <span style=\"color: #008000; text-decoration-color: #008000\">\"The mill's closed\"</span>\n",
       "</pre>\n"
      ],
      "text/plain": [
       "Default repr = \u001b[32m\"The mill's closed\"\u001b[0m\n"
      ]
     },
     "metadata": {},
     "output_type": "display_data"
    },
    {
     "data": {
      "text/html": [
       "<pre style=\"white-space:pre;overflow-x:auto;line-height:normal;font-family:Menlo,'DejaVu Sans Mono',consolas,'Courier New',monospace\">Padded to <span style=\"color: #008080; text-decoration-color: #008080; font-weight: bold\">20</span> width = <span style=\"color: #008000; text-decoration-color: #008000\">\"The mill's closed   \"</span>\n",
       "</pre>\n"
      ],
      "text/plain": [
       "Padded to \u001b[1;36m20\u001b[0m width = \u001b[32m\"The mill's closed   \"\u001b[0m\n"
      ]
     },
     "metadata": {},
     "output_type": "display_data"
    },
    {
     "data": {
      "text/html": [
       "<pre style=\"white-space:pre;overflow-x:auto;line-height:normal;font-family:Menlo,'DejaVu Sans Mono',consolas,'Courier New',monospace\">Padded to <span style=\"color: #008080; text-decoration-color: #008080; font-weight: bold\">20</span> width and !r = <span style=\"color: #008000; text-decoration-color: #008000\">'\"The mill\\'s closed\" '</span>\n",
       "</pre>\n"
      ],
      "text/plain": [
       "Padded to \u001b[1;36m20\u001b[0m width and !r = \u001b[32m'\"The mill\\'s closed\" '\u001b[0m\n"
      ]
     },
     "metadata": {},
     "output_type": "display_data"
    },
    {
     "data": {
      "text/html": [
       "<pre style=\"white-space:pre;overflow-x:auto;line-height:normal;font-family:Menlo,'DejaVu Sans Mono',consolas,'Courier New',monospace\">Centered with <span style=\"color: #008080; text-decoration-color: #008080; font-weight: bold\">35</span> width = <span style=\"color: #008000; text-decoration-color: #008000\">\"         The mill's closed         \"</span>\n",
       "</pre>\n"
      ],
      "text/plain": [
       "Centered with \u001b[1;36m35\u001b[0m width = \u001b[32m\"         The mill's closed         \"\u001b[0m\n"
      ]
     },
     "metadata": {},
     "output_type": "display_data"
    }
   ],
   "source": [
    "from datetime import datetime\n",
    "from decimal import Decimal\n",
    "\n",
    "name = \"Fred\"\n",
    "print(f\"He said his name is {name!r}.\")  # !r is equivalent to repr()\n",
    "\n",
    "width = 10\n",
    "precision = 4\n",
    "value = Decimal(\"12.34567\")\n",
    "print(f\"result: {value:{width}.{precision}}\")  # Nested fields\n",
    "\n",
    "today = datetime(year=2021, month=8, day=26)\n",
    "rprint(\"today = \" + repr(today))\n",
    "rprint(repr(f\"{today:%B %d, %Y}\"))  # Using date format specifier\n",
    "rprint(repr(f\"{today = :%B %d, %Y}\"))  # Using date format specifier and debugging\n",
    "\n",
    "foo = \"bar\"\n",
    "rprint(repr(f\"{  foo =  }\"))  # Whitespace preserved in braces when '=' present\n",
    "\n",
    "line = \"The mill's closed\"\n",
    "rprint(\"Default repr = \" + repr(f\"{line}\"))\n",
    "\n",
    "rprint(\"Padded to 20 width = \" + repr(f\"{line:20}\"))\n",
    "\n",
    "rprint(\"Padded to 20 width and !r = \" + repr(f\"{line!r:20}\"))\n",
    "\n",
    "rprint(\"Centered with 35 width = \" + repr(f\"{line:^35}\"))"
   ]
  },
  {
   "attachments": {},
   "cell_type": "markdown",
   "metadata": {},
   "source": [
    "## [Format Specification Mini-Language](https://docs.python.org/3/library/string.html#format-specification-mini-language)\n",
    "\n",
    "“Format specifications” are used within replacement fields contained within a format string to define how individual values are presented.\n",
    "\n",
    "The general form of a standard format specifier is:\n",
    "```\n",
    "format_spec     ::=  [[fill]align][sign][z][#][0][width][grouping_option][.precision][type]\n",
    "fill            ::=  <any character>\n",
    "align           ::=  \"<\" | \">\" | \"=\" | \"^\"\n",
    "sign            ::=  \"+\" | \"-\" | \" \"\n",
    "width           ::=  digit+\n",
    "grouping_option ::=  \"_\" | \",\"\n",
    "precision       ::=  digit+\n",
    "type            ::=  \"b\" | \"c\" | \"d\" | \"e\" | \"E\" | \"f\" | \"F\" | \"g\" | \"G\" | \"n\" | \"o\" | \"s\" | \"x\" | \"X\" | \"%\"\n",
    "```\n"
   ]
  },
  {
   "attachments": {},
   "cell_type": "markdown",
   "metadata": {},
   "source": [
    "### Fill\n",
    "\n",
    "If a valid align value is specified, it can be preceded by a **single** fill character that can be any character and defaults to a space if omitted. It is not possible to use a literal curly brace (`\"{\"` or `\"}\"`) as the fill character in a formatted string literal, though a format specifying string containing a curly brace may be used (see `Example 3 and 4` below). This limitation doesn’t affect the `format()` function."
   ]
  },
  {
   "cell_type": "code",
   "execution_count": 3,
   "metadata": {},
   "outputs": [
    {
     "data": {
      "text/html": [
       "<pre style=\"white-space:pre;overflow-x:auto;line-height:normal;font-family:Menlo,'DejaVu Sans Mono',consolas,'Courier New',monospace\">foo = <span style=\"color: #008080; text-decoration-color: #008080; font-weight: bold\">12</span>\n",
       "</pre>\n"
      ],
      "text/plain": [
       "foo = \u001b[1;36m12\u001b[0m\n"
      ]
     },
     "metadata": {},
     "output_type": "display_data"
    },
    {
     "data": {
      "text/html": [
       "<pre style=\"white-space:pre;overflow-x:auto;line-height:normal;font-family:Menlo,'DejaVu Sans Mono',consolas,'Courier New',monospace\">fill = <span style=\"color: #008000; text-decoration-color: #008000\">'0'</span>, align = <span style=\"color: #008000; text-decoration-color: #008000\">'='</span>, sign = <span style=\"color: #008000; text-decoration-color: #008000\">'+'</span>, width = <span style=\"color: #008080; text-decoration-color: #008080; font-weight: bold\">15</span>\n",
       "</pre>\n"
      ],
      "text/plain": [
       "fill = \u001b[32m'0'\u001b[0m, align = \u001b[32m'='\u001b[0m, sign = \u001b[32m'+'\u001b[0m, width = \u001b[1;36m15\u001b[0m\n"
      ]
     },
     "metadata": {},
     "output_type": "display_data"
    },
    {
     "data": {
      "text/html": [
       "<pre style=\"white-space:pre;overflow-x:auto;line-height:normal;font-family:Menlo,'DejaVu Sans Mono',consolas,'Courier New',monospace\">format = <span style=\"color: #008000; text-decoration-color: #008000\">'0=+15'</span>\n",
       "</pre>\n"
      ],
      "text/plain": [
       "format = \u001b[32m'\u001b[0m\u001b[32m0\u001b[0m\u001b[32m=+15'\u001b[0m\n"
      ]
     },
     "metadata": {},
     "output_type": "display_data"
    },
    {
     "data": {
      "text/html": [
       "<pre style=\"white-space:pre;overflow-x:auto;line-height:normal;font-family:Menlo,'DejaVu Sans Mono',consolas,'Courier New',monospace\">foo = +<span style=\"color: #008080; text-decoration-color: #008080; font-weight: bold\">00000000000012</span>\n",
       "</pre>\n"
      ],
      "text/plain": [
       "foo = +\u001b[1;36m00000000000012\u001b[0m\n"
      ]
     },
     "metadata": {},
     "output_type": "display_data"
    }
   ],
   "source": [
    "# Exapmle 1: Filling numerics\n",
    "foo = 12\n",
    "fill = \"0\"\n",
    "align = \"=\"  # Pad after sign but before number\n",
    "sign = \"+\"  # Use signs for both pos/neg numbers\n",
    "width = 15\n",
    "rprint(f\"{foo = !r}\")  # Display the object being formatted\n",
    "rprint(f\"fill = {fill!r}, align = {align!r}, sign = {sign!r}, width = {width!r}\")\n",
    "f_str = f\"{fill}{align}{sign}{width}\"\n",
    "rprint(f\"format = {f_str!r}\")  # Display the format\n",
    "rprint(f\"{foo = :{f_str}}\")  # Display the result"
   ]
  },
  {
   "cell_type": "code",
   "execution_count": 4,
   "metadata": {},
   "outputs": [
    {
     "data": {
      "text/html": [
       "<pre style=\"white-space:pre;overflow-x:auto;line-height:normal;font-family:Menlo,'DejaVu Sans Mono',consolas,'Courier New',monospace\">bar = <span style=\"color: #008000; text-decoration-color: #008000\">'I must not fear.'</span>\n",
       "</pre>\n"
      ],
      "text/plain": [
       "bar = \u001b[32m'I must not fear.'\u001b[0m\n"
      ]
     },
     "metadata": {},
     "output_type": "display_data"
    },
    {
     "data": {
      "text/html": [
       "<pre style=\"white-space:pre;overflow-x:auto;line-height:normal;font-family:Menlo,'DejaVu Sans Mono',consolas,'Courier New',monospace\">fill = <span style=\"color: #008000; text-decoration-color: #008000\">'+'</span>, align = <span style=\"color: #008000; text-decoration-color: #008000\">'^'</span>, width = <span style=\"color: #008080; text-decoration-color: #008080; font-weight: bold\">30</span>\n",
       "</pre>\n"
      ],
      "text/plain": [
       "fill = \u001b[32m'+'\u001b[0m, align = \u001b[32m'^'\u001b[0m, width = \u001b[1;36m30\u001b[0m\n"
      ]
     },
     "metadata": {},
     "output_type": "display_data"
    },
    {
     "data": {
      "text/html": [
       "<pre style=\"white-space:pre;overflow-x:auto;line-height:normal;font-family:Menlo,'DejaVu Sans Mono',consolas,'Courier New',monospace\">format = <span style=\"color: #008000; text-decoration-color: #008000\">'+^30'</span>\n",
       "</pre>\n"
      ],
      "text/plain": [
       "format = \u001b[32m'+^30'\u001b[0m\n"
      ]
     },
     "metadata": {},
     "output_type": "display_data"
    },
    {
     "data": {
      "text/html": [
       "<pre style=\"white-space:pre;overflow-x:auto;line-height:normal;font-family:Menlo,'DejaVu Sans Mono',consolas,'Courier New',monospace\">bar = +++++++I must not fear.+++++++\n",
       "</pre>\n"
      ],
      "text/plain": [
       "bar = +++++++I must not fear.+++++++\n"
      ]
     },
     "metadata": {},
     "output_type": "display_data"
    }
   ],
   "source": [
    "# Example 2: Filling text\n",
    "bar = \"I must not fear.\"\n",
    "fill = \"+\"\n",
    "align = \"^\"  # Center\n",
    "width = 30\n",
    "rprint(f\"{bar = !r}\")  # Display the object being formatted\n",
    "rprint(f\"fill = {fill!r}, align = {align!r}, width = {width!r}\")\n",
    "f_str = f\"{fill}{align}{width}\"\n",
    "rprint(f\"format = {f_str!r}\")  # Display the format\n",
    "rprint(f\"{bar = :{f_str}}\")  # Display the result"
   ]
  },
  {
   "cell_type": "code",
   "execution_count": 5,
   "metadata": {},
   "outputs": [
    {
     "name": "stdout",
     "output_type": "stream",
     "text": [
      "baz = 'Fear is the mind-killer.'\n"
     ]
    }
   ],
   "source": [
    "# Exapmle 3: Limitations\n",
    "\n",
    "# Note, the second print statement below does not work due to the literal curly brace\n",
    "# even though the intended format is identical to Example 4 below\n",
    "baz = \"Fear is the mind-killer.\"\n",
    "print(f\"{baz = !r}\")  # Display the object being formatted\n",
    "# Uncomment below to see SyntaxError\n",
    "# print(f\"{baz = :{^75}\")  # Display the result"
   ]
  },
  {
   "cell_type": "code",
   "execution_count": 6,
   "metadata": {},
   "outputs": [
    {
     "data": {
      "text/html": [
       "<pre style=\"white-space:pre;overflow-x:auto;line-height:normal;font-family:Menlo,'DejaVu Sans Mono',consolas,'Courier New',monospace\">qux = <span style=\"color: #008000; text-decoration-color: #008000\">'Fear is the little-death that brings total obliteration.'</span>\n",
       "</pre>\n"
      ],
      "text/plain": [
       "qux = \u001b[32m'Fear is the little-death that brings total obliteration.'\u001b[0m\n"
      ]
     },
     "metadata": {},
     "output_type": "display_data"
    },
    {
     "data": {
      "text/html": [
       "<pre style=\"white-space:pre;overflow-x:auto;line-height:normal;font-family:Menlo,'DejaVu Sans Mono',consolas,'Courier New',monospace\">fill = <span style=\"color: #008000; text-decoration-color: #008000\">'{'</span>, align = <span style=\"color: #008000; text-decoration-color: #008000\">'^'</span>, width = <span style=\"color: #008080; text-decoration-color: #008080; font-weight: bold\">75</span>\n",
       "</pre>\n"
      ],
      "text/plain": [
       "fill = \u001b[32m'\u001b[0m\u001b[32m{\u001b[0m\u001b[32m'\u001b[0m, align = \u001b[32m'^'\u001b[0m, width = \u001b[1;36m75\u001b[0m\n"
      ]
     },
     "metadata": {},
     "output_type": "display_data"
    },
    {
     "data": {
      "text/html": [
       "<pre style=\"white-space:pre;overflow-x:auto;line-height:normal;font-family:Menlo,'DejaVu Sans Mono',consolas,'Courier New',monospace\">format = <span style=\"color: #008000; text-decoration-color: #008000\">'{^75'</span>\n",
       "</pre>\n"
      ],
      "text/plain": [
       "format = \u001b[32m'\u001b[0m\u001b[32m{\u001b[0m\u001b[32m^75'\u001b[0m\n"
      ]
     },
     "metadata": {},
     "output_type": "display_data"
    },
    {
     "data": {
      "text/html": [
       "<pre style=\"white-space:pre;overflow-x:auto;line-height:normal;font-family:Menlo,'DejaVu Sans Mono',consolas,'Courier New',monospace\">qux = <span style=\"font-weight: bold\">{{{{{{{{{</span>Fear is the little-death that brings total obliteration.<span style=\"font-weight: bold\">{{{{{{{{{{</span>\n",
       "</pre>\n"
      ],
      "text/plain": [
       "qux = \u001b[1m{\u001b[0m\u001b[1m{\u001b[0m\u001b[1m{\u001b[0m\u001b[1m{\u001b[0m\u001b[1m{\u001b[0m\u001b[1m{\u001b[0m\u001b[1m{\u001b[0m\u001b[1m{\u001b[0m\u001b[1m{\u001b[0mFear is the little-death that brings total obliteration.\u001b[1m{\u001b[0m\u001b[1m{\u001b[0m\u001b[1m{\u001b[0m\u001b[1m{\u001b[0m\u001b[1m{\u001b[0m\u001b[1m{\u001b[0m\u001b[1m{\u001b[0m\u001b[1m{\u001b[0m\u001b[1m{\u001b[0m\u001b[1m{\u001b[0m\n"
      ]
     },
     "metadata": {},
     "output_type": "display_data"
    }
   ],
   "source": [
    "# Example 4: Limitations, cont.\n",
    "\n",
    "# The limitation is only in the parsing of the line and not a limitatoin of f-strings\n",
    "# as the following format, which is what Example 3 resolves to, does work\n",
    "qux = \"Fear is the little-death that brings total obliteration.\"\n",
    "fill = \"{\"  # Not an issue since it is inside of a string\n",
    "align = \"^\"  # Center\n",
    "width = 75\n",
    "rprint(f\"{qux = !r}\")  # Display the object being formatted\n",
    "rprint(f\"fill = {fill!r}, align = {align!r}, width = {width!r}\")\n",
    "f_str = f\"{fill}{align}{width}\"\n",
    "rprint(f\"format = {f_str!r}\")  # Display the format\n",
    "rprint(f\"{qux = :{f_str}}\")  # Display the result"
   ]
  },
  {
   "cell_type": "markdown",
   "metadata": {},
   "source": [
    "### Align\n",
    "\n",
    "Note that unless a minimum field width is defined, the field width will always be the same size as the data to fill it, so that the alignment option has no meaning in this case.\n",
    "\n",
    "Option | Meaning\n",
    "--- | ---\n",
    "`'<'`| Forces the field to be left-aligned within the available space (this is the default for most objects).\n",
    "`'>'` | Forces the field to be right-aligned within the available space (this is the default for numbers).\n",
    "`'='` | Forces the padding to be placed after the sign (if any) but before the digits. This is used for printing fields in the form `'+000000120'`. This alignment option is only valid for numeric types. It becomes the default for numbers when `'0'` immediately precedes the field width.\n",
    "`'^'` | Forces the field to be centered within the available space."
   ]
  },
  {
   "cell_type": "code",
   "execution_count": 7,
   "metadata": {},
   "outputs": [
    {
     "data": {
      "text/html": [
       "<pre style=\"white-space:pre;overflow-x:auto;line-height:normal;font-family:Menlo,'DejaVu Sans Mono',consolas,'Courier New',monospace\"><span style=\"color: #008000; text-decoration-color: #008000\">'left&lt;&lt;&lt;&lt;&lt;&lt;&lt;&lt;&lt;&lt;&lt;&lt;'</span>\n",
       "</pre>\n"
      ],
      "text/plain": [
       "\u001b[32m'left<<<<<<<<<<<<'\u001b[0m\n"
      ]
     },
     "metadata": {},
     "output_type": "display_data"
    },
    {
     "data": {
      "text/html": [
       "<pre style=\"white-space:pre;overflow-x:auto;line-height:normal;font-family:Menlo,'DejaVu Sans Mono',consolas,'Courier New',monospace\"><span style=\"color: #008000; text-decoration-color: #008000\">'^^^^^center^^^^^'</span>\n",
       "</pre>\n"
      ],
      "text/plain": [
       "\u001b[32m'^^^^^center^^^^^'\u001b[0m\n"
      ]
     },
     "metadata": {},
     "output_type": "display_data"
    },
    {
     "data": {
      "text/html": [
       "<pre style=\"white-space:pre;overflow-x:auto;line-height:normal;font-family:Menlo,'DejaVu Sans Mono',consolas,'Courier New',monospace\"><span style=\"color: #008000; text-decoration-color: #008000\">'&gt;&gt;&gt;&gt;&gt;&gt;&gt;&gt;&gt;&gt;&gt;right'</span>\n",
       "</pre>\n"
      ],
      "text/plain": [
       "\u001b[32m'>>>>>>>>>>>right'\u001b[0m\n"
      ]
     },
     "metadata": {},
     "output_type": "display_data"
    }
   ],
   "source": [
    "# Example 1: All 3 text alignment styles\n",
    "width = 16\n",
    "for align, text in zip(\"<^>\", [\"left\", \"center\", \"right\"]):\n",
    "    fill = align\n",
    "    rprint(repr(f\"{text:{fill}{align}{width}}\"))"
   ]
  },
  {
   "cell_type": "code",
   "execution_count": 8,
   "metadata": {},
   "outputs": [
    {
     "data": {
      "text/html": [
       "<pre style=\"white-space:pre;overflow-x:auto;line-height:normal;font-family:Menlo,'DejaVu Sans Mono',consolas,'Courier New',monospace\">Left align\n",
       "</pre>\n"
      ],
      "text/plain": [
       "Left align\n"
      ]
     },
     "metadata": {},
     "output_type": "display_data"
    },
    {
     "data": {
      "text/html": [
       "<pre style=\"white-space:pre;overflow-x:auto;line-height:normal;font-family:Menlo,'DejaVu Sans Mono',consolas,'Courier New',monospace\">format = <span style=\"color: #008000; text-decoration-color: #008000\">'_&lt;30'</span>\n",
       "</pre>\n"
      ],
      "text/plain": [
       "format = \u001b[32m'_<30'\u001b[0m\n"
      ]
     },
     "metadata": {},
     "output_type": "display_data"
    },
    {
     "data": {
      "text/html": [
       "<pre style=\"white-space:pre;overflow-x:auto;line-height:normal;font-family:Menlo,'DejaVu Sans Mono',consolas,'Courier New',monospace\"><span style=\"color: #008000; text-decoration-color: #008000\">'This is left__________________'</span>\n",
       "</pre>\n"
      ],
      "text/plain": [
       "\u001b[32m'This is left__________________'\u001b[0m\n"
      ]
     },
     "metadata": {},
     "output_type": "display_data"
    }
   ],
   "source": [
    "# Example 2: Align left\n",
    "fill = \"_\"\n",
    "align = \"<\"  # Left\n",
    "width = 30\n",
    "rprint(\"Left align\")\n",
    "f_str = f\"{fill}{align}{width}\"\n",
    "rprint(f\"format = {f_str!r}\")  # Display the format\n",
    "rprint(repr(f\"{'This is left':{f_str}}\"))"
   ]
  },
  {
   "cell_type": "code",
   "execution_count": 9,
   "metadata": {},
   "outputs": [
    {
     "data": {
      "text/html": [
       "<pre style=\"white-space:pre;overflow-x:auto;line-height:normal;font-family:Menlo,'DejaVu Sans Mono',consolas,'Courier New',monospace\">Right align\n",
       "</pre>\n"
      ],
      "text/plain": [
       "Right align\n"
      ]
     },
     "metadata": {},
     "output_type": "display_data"
    },
    {
     "data": {
      "text/html": [
       "<pre style=\"white-space:pre;overflow-x:auto;line-height:normal;font-family:Menlo,'DejaVu Sans Mono',consolas,'Courier New',monospace\">format = <span style=\"color: #008000; text-decoration-color: #008000\">'&gt;30'</span>\n",
       "</pre>\n"
      ],
      "text/plain": [
       "format = \u001b[32m'>30'\u001b[0m\n"
      ]
     },
     "metadata": {},
     "output_type": "display_data"
    },
    {
     "data": {
      "text/html": [
       "<pre style=\"white-space:pre;overflow-x:auto;line-height:normal;font-family:Menlo,'DejaVu Sans Mono',consolas,'Courier New',monospace\"><span style=\"color: #008000; text-decoration-color: #008000\">'                 This is right'</span>\n",
       "</pre>\n"
      ],
      "text/plain": [
       "\u001b[32m'                 This is right'\u001b[0m\n"
      ]
     },
     "metadata": {},
     "output_type": "display_data"
    }
   ],
   "source": [
    "# Example 3: Align right\n",
    "fill = \"\"  # Optional, defaults to space when omitted\n",
    "align = \">\"  # Right\n",
    "width = 30\n",
    "rprint(\"Right align\")\n",
    "f_str = f\"{fill}{align}{width}\"\n",
    "rprint(f\"format = {f_str!r}\")  # Display the format\n",
    "rprint(repr(f\"{'This is right':{f_str}}\"))"
   ]
  },
  {
   "cell_type": "code",
   "execution_count": 10,
   "metadata": {},
   "outputs": [
    {
     "data": {
      "text/html": [
       "<pre style=\"white-space:pre;overflow-x:auto;line-height:normal;font-family:Menlo,'DejaVu Sans Mono',consolas,'Courier New',monospace\">Center align\n",
       "</pre>\n"
      ],
      "text/plain": [
       "Center align\n"
      ]
     },
     "metadata": {},
     "output_type": "display_data"
    },
    {
     "data": {
      "text/html": [
       "<pre style=\"white-space:pre;overflow-x:auto;line-height:normal;font-family:Menlo,'DejaVu Sans Mono',consolas,'Courier New',monospace\">format = <span style=\"color: #008000; text-decoration-color: #008000\">'*^30'</span>\n",
       "</pre>\n"
      ],
      "text/plain": [
       "format = \u001b[32m'*^30'\u001b[0m\n"
      ]
     },
     "metadata": {},
     "output_type": "display_data"
    },
    {
     "data": {
      "text/html": [
       "<pre style=\"white-space:pre;overflow-x:auto;line-height:normal;font-family:Menlo,'DejaVu Sans Mono',consolas,'Courier New',monospace\"><span style=\"color: #008000; text-decoration-color: #008000\">'********This is center********'</span>\n",
       "</pre>\n"
      ],
      "text/plain": [
       "\u001b[32m'********This is center********'\u001b[0m\n"
      ]
     },
     "metadata": {},
     "output_type": "display_data"
    }
   ],
   "source": [
    "# Example 4: Align center\n",
    "fill = \"*\"\n",
    "align = \"^\"  # Center\n",
    "width = 30\n",
    "rprint(\"Center align\")\n",
    "f_str = f\"{fill}{align}{width}\"\n",
    "rprint(f\"format = {f_str!r}\")  # Display the format\n",
    "rprint(repr(f\"{'This is center':{f_str}}\"))"
   ]
  },
  {
   "cell_type": "code",
   "execution_count": 11,
   "metadata": {},
   "outputs": [
    {
     "data": {
      "text/html": [
       "<pre style=\"white-space:pre;overflow-x:auto;line-height:normal;font-family:Menlo,'DejaVu Sans Mono',consolas,'Courier New',monospace\">Align after sign with <span style=\"color: #008000; text-decoration-color: #008000\">'='</span>\n",
       "</pre>\n"
      ],
      "text/plain": [
       "Align after sign with \u001b[32m'='\u001b[0m\n"
      ]
     },
     "metadata": {},
     "output_type": "display_data"
    },
    {
     "data": {
      "text/html": [
       "<pre style=\"white-space:pre;overflow-x:auto;line-height:normal;font-family:Menlo,'DejaVu Sans Mono',consolas,'Courier New',monospace\">format = <span style=\"color: #008000; text-decoration-color: #008000\">'.=+30'</span>\n",
       "</pre>\n"
      ],
      "text/plain": [
       "format = \u001b[32m'.=+30'\u001b[0m\n"
      ]
     },
     "metadata": {},
     "output_type": "display_data"
    },
    {
     "data": {
      "text/html": [
       "<pre style=\"white-space:pre;overflow-x:auto;line-height:normal;font-family:Menlo,'DejaVu Sans Mono',consolas,'Courier New',monospace\"><span style=\"color: #008000; text-decoration-color: #008000\">'+...........................12'</span>\n",
       "</pre>\n"
      ],
      "text/plain": [
       "\u001b[32m'+...........................12'\u001b[0m\n"
      ]
     },
     "metadata": {},
     "output_type": "display_data"
    }
   ],
   "source": [
    "# Example 5: Align numerics after sign ex 1\n",
    "fill = \".\"\n",
    "align = \"=\"  # Pad after sign but before number\n",
    "sign = \"+\"  # Use signs for both pos/neg numbers\n",
    "width = 30\n",
    "rprint(\"Align after sign with '='\")\n",
    "f_str = f\"{fill}{align}{sign}{width}\"\n",
    "rprint(f\"format = {f_str!r}\")  # Display the format\n",
    "rprint(repr(f\"{12:{f_str}}\"))"
   ]
  },
  {
   "cell_type": "code",
   "execution_count": 12,
   "metadata": {},
   "outputs": [
    {
     "data": {
      "text/html": [
       "<pre style=\"white-space:pre;overflow-x:auto;line-height:normal;font-family:Menlo,'DejaVu Sans Mono',consolas,'Courier New',monospace\">Align after sign with <span style=\"color: #008000; text-decoration-color: #008000\">'0'</span> prefixing width\n",
       "</pre>\n"
      ],
      "text/plain": [
       "Align after sign with \u001b[32m'0'\u001b[0m prefixing width\n"
      ]
     },
     "metadata": {},
     "output_type": "display_data"
    },
    {
     "data": {
      "text/html": [
       "<pre style=\"white-space:pre;overflow-x:auto;line-height:normal;font-family:Menlo,'DejaVu Sans Mono',consolas,'Courier New',monospace\">format = <span style=\"color: #008000; text-decoration-color: #008000\">'+030'</span>\n",
       "</pre>\n"
      ],
      "text/plain": [
       "format = \u001b[32m'+030'\u001b[0m\n"
      ]
     },
     "metadata": {},
     "output_type": "display_data"
    },
    {
     "data": {
      "text/html": [
       "<pre style=\"white-space:pre;overflow-x:auto;line-height:normal;font-family:Menlo,'DejaVu Sans Mono',consolas,'Courier New',monospace\"><span style=\"color: #008000; text-decoration-color: #008000\">'+00000000000000000000000000012'</span>\n",
       "</pre>\n"
      ],
      "text/plain": [
       "\u001b[32m'+00000000000000000000000000012'\u001b[0m\n"
      ]
     },
     "metadata": {},
     "output_type": "display_data"
    }
   ],
   "source": [
    "# Example 6: Align numerics after sign ex 2\n",
    "# When 0 prefixes width:\n",
    "# - Fill defaults to \"0\"\n",
    "# - Align defaults to \"=\"\n",
    "\n",
    "sign = \"+\"  # Use signs for both pos/neg numbers\n",
    "width = 30\n",
    "rprint(\"Align after sign with '0' prefixing width\")\n",
    "f_str = f\"{sign}0{width}\"\n",
    "rprint(f\"format = {f_str!r}\")  # Display the format\n",
    "rprint(repr(f\"{12:{f_str}}\"))"
   ]
  },
  {
   "cell_type": "markdown",
   "metadata": {},
   "source": [
    "### Sign\n",
    "\n",
    "The sign option is only valid for number types, and can be one of the following:\n",
    "\n",
    "Option | Meaning\n",
    "--- | ---\n",
    "`'+'` | Indicates that a sign should be used for both positive as well as negative numbers.\n",
    "`'-'` | Indicates that a sign should be used only for negative numbers (this is the default behavior).\n",
    "space | Indicates that a leading space should be used on positive numbers, and a minus sign on negative numbers."
   ]
  },
  {
   "cell_type": "code",
   "execution_count": 13,
   "metadata": {},
   "outputs": [
    {
     "data": {
      "text/html": [
       "<pre style=\"white-space:pre;overflow-x:auto;line-height:normal;font-family:Menlo,'DejaVu Sans Mono',consolas,'Courier New',monospace\">Format with <span style=\"color: #008000; text-decoration-color: #008000\">'+'</span> sign option\n",
       "</pre>\n"
      ],
      "text/plain": [
       "Format with \u001b[32m'+'\u001b[0m sign option\n"
      ]
     },
     "metadata": {},
     "output_type": "display_data"
    },
    {
     "data": {
      "text/html": [
       "<pre style=\"white-space:pre;overflow-x:auto;line-height:normal;font-family:Menlo,'DejaVu Sans Mono',consolas,'Courier New',monospace\"><span style=\"color: #008000; text-decoration-color: #008000\">'+994'</span>\n",
       "</pre>\n"
      ],
      "text/plain": [
       "\u001b[32m'+994'\u001b[0m\n"
      ]
     },
     "metadata": {},
     "output_type": "display_data"
    },
    {
     "data": {
      "text/html": [
       "<pre style=\"white-space:pre;overflow-x:auto;line-height:normal;font-family:Menlo,'DejaVu Sans Mono',consolas,'Courier New',monospace\"><span style=\"color: #008000; text-decoration-color: #008000\">'-60'</span>\n",
       "</pre>\n"
      ],
      "text/plain": [
       "\u001b[32m'-60'\u001b[0m\n"
      ]
     },
     "metadata": {},
     "output_type": "display_data"
    }
   ],
   "source": [
    "# Example 1: \"+\"\n",
    "pos = 994\n",
    "neg = -60\n",
    "sign = \"+\"\n",
    "rprint(f\"Format with {sign!r} sign option\")\n",
    "rprint(repr(f\"{pos:{sign}}\"))\n",
    "rprint(repr(f\"{neg:{sign}}\"))"
   ]
  },
  {
   "cell_type": "code",
   "execution_count": 14,
   "metadata": {},
   "outputs": [
    {
     "data": {
      "text/html": [
       "<pre style=\"white-space:pre;overflow-x:auto;line-height:normal;font-family:Menlo,'DejaVu Sans Mono',consolas,'Courier New',monospace\">Format with <span style=\"color: #008000; text-decoration-color: #008000\">'-'</span> sign option\n",
       "</pre>\n"
      ],
      "text/plain": [
       "Format with \u001b[32m'-'\u001b[0m sign option\n"
      ]
     },
     "metadata": {},
     "output_type": "display_data"
    },
    {
     "data": {
      "text/html": [
       "<pre style=\"white-space:pre;overflow-x:auto;line-height:normal;font-family:Menlo,'DejaVu Sans Mono',consolas,'Courier New',monospace\"><span style=\"color: #008000; text-decoration-color: #008000\">'549'</span>\n",
       "</pre>\n"
      ],
      "text/plain": [
       "\u001b[32m'549'\u001b[0m\n"
      ]
     },
     "metadata": {},
     "output_type": "display_data"
    },
    {
     "data": {
      "text/html": [
       "<pre style=\"white-space:pre;overflow-x:auto;line-height:normal;font-family:Menlo,'DejaVu Sans Mono',consolas,'Courier New',monospace\"><span style=\"color: #008000; text-decoration-color: #008000\">'-310'</span>\n",
       "</pre>\n"
      ],
      "text/plain": [
       "\u001b[32m'-310'\u001b[0m\n"
      ]
     },
     "metadata": {},
     "output_type": "display_data"
    }
   ],
   "source": [
    "# Example 2: \"-\"\n",
    "pos = 549\n",
    "neg = -310\n",
    "sign = \"-\"\n",
    "rprint(f\"Format with {sign!r} sign option\")\n",
    "rprint(repr(f\"{pos:{sign}}\"))\n",
    "rprint(repr(f\"{neg:{sign}}\"))"
   ]
  },
  {
   "cell_type": "code",
   "execution_count": 15,
   "metadata": {},
   "outputs": [
    {
     "data": {
      "text/html": [
       "<pre style=\"white-space:pre;overflow-x:auto;line-height:normal;font-family:Menlo,'DejaVu Sans Mono',consolas,'Courier New',monospace\">Format with <span style=\"color: #008000; text-decoration-color: #008000\">' '</span> sign option\n",
       "</pre>\n"
      ],
      "text/plain": [
       "Format with \u001b[32m' '\u001b[0m sign option\n"
      ]
     },
     "metadata": {},
     "output_type": "display_data"
    },
    {
     "data": {
      "text/html": [
       "<pre style=\"white-space:pre;overflow-x:auto;line-height:normal;font-family:Menlo,'DejaVu Sans Mono',consolas,'Courier New',monospace\"><span style=\"color: #008000; text-decoration-color: #008000\">' 596'</span>\n",
       "</pre>\n"
      ],
      "text/plain": [
       "\u001b[32m' 596'\u001b[0m\n"
      ]
     },
     "metadata": {},
     "output_type": "display_data"
    },
    {
     "data": {
      "text/html": [
       "<pre style=\"white-space:pre;overflow-x:auto;line-height:normal;font-family:Menlo,'DejaVu Sans Mono',consolas,'Courier New',monospace\"><span style=\"color: #008000; text-decoration-color: #008000\">'-711'</span>\n",
       "</pre>\n"
      ],
      "text/plain": [
       "\u001b[32m'-711'\u001b[0m\n"
      ]
     },
     "metadata": {},
     "output_type": "display_data"
    }
   ],
   "source": [
    "# Example 2: \" \"\n",
    "pos = 596\n",
    "neg = -711\n",
    "sign = \" \"\n",
    "rprint(f\"Format with {sign!r} sign option\")\n",
    "rprint(repr(f\"{pos:{sign}}\"))\n",
    "rprint(repr(f\"{neg:{sign}}\"))"
   ]
  },
  {
   "attachments": {},
   "cell_type": "markdown",
   "metadata": {},
   "source": [
    "### Coerce Negative Zeros `'z'`\n",
    "\n",
    "The `'z'` option coerces negative zero floating-point values to positive zero after rounding to the format precision. This option is only valid for floating-point presentation types.\n",
    "\n",
    "Added in Python version 3.11 (see [PEP 682](https://peps.python.org/pep-0682/))"
   ]
  },
  {
   "cell_type": "code",
   "execution_count": 16,
   "metadata": {},
   "outputs": [
    {
     "data": {
      "text/html": [
       "<pre style=\"white-space:pre;overflow-x:auto;line-height:normal;font-family:Menlo,'DejaVu Sans Mono',consolas,'Courier New',monospace\">Positive Number = +<span style=\"color: #008080; text-decoration-color: #008080; font-weight: bold\">0.004783</span>\n",
       "</pre>\n"
      ],
      "text/plain": [
       "Positive Number = +\u001b[1;36m0.004783\u001b[0m\n"
      ]
     },
     "metadata": {},
     "output_type": "display_data"
    },
    {
     "data": {
      "text/html": [
       "<pre style=\"white-space:pre;overflow-x:auto;line-height:normal;font-family:Menlo,'DejaVu Sans Mono',consolas,'Courier New',monospace\">Rounded to <span style=\"color: #008080; text-decoration-color: #008080; font-weight: bold\">3</span> places with <span style=\"color: #008000; text-decoration-color: #008000\">'z'</span> = <span style=\"color: #008000; text-decoration-color: #008000\">'+0.005'</span>\n",
       "</pre>\n"
      ],
      "text/plain": [
       "Rounded to \u001b[1;36m3\u001b[0m places with \u001b[32m'z'\u001b[0m = \u001b[32m'+0.005'\u001b[0m\n"
      ]
     },
     "metadata": {},
     "output_type": "display_data"
    },
    {
     "data": {
      "text/html": [
       "<pre style=\"white-space:pre;overflow-x:auto;line-height:normal;font-family:Menlo,'DejaVu Sans Mono',consolas,'Courier New',monospace\">Rounded to <span style=\"color: #008080; text-decoration-color: #008080; font-weight: bold\">2</span> places with <span style=\"color: #008000; text-decoration-color: #008000\">'z'</span> = <span style=\"color: #008000; text-decoration-color: #008000\">'+0.00'</span>\n",
       "</pre>\n"
      ],
      "text/plain": [
       "Rounded to \u001b[1;36m2\u001b[0m places with \u001b[32m'z'\u001b[0m = \u001b[32m'+0.00'\u001b[0m\n"
      ]
     },
     "metadata": {},
     "output_type": "display_data"
    },
    {
     "data": {
      "text/html": [
       "<pre style=\"white-space:pre;overflow-x:auto;line-height:normal;font-family:Menlo,'DejaVu Sans Mono',consolas,'Courier New',monospace\">Rounded to <span style=\"color: #008080; text-decoration-color: #008080; font-weight: bold\">2</span> places without <span style=\"color: #008000; text-decoration-color: #008000\">'z'</span> = <span style=\"color: #008000; text-decoration-color: #008000\">'+0.00'</span>\n",
       "</pre>\n"
      ],
      "text/plain": [
       "Rounded to \u001b[1;36m2\u001b[0m places without \u001b[32m'z'\u001b[0m = \u001b[32m'+0.00'\u001b[0m\n"
      ]
     },
     "metadata": {},
     "output_type": "display_data"
    }
   ],
   "source": [
    "# Example 1: Positive numbers (has no effect)\n",
    "if sys.version_info >= (3, 11):\n",
    "    pos = 0.00478272\n",
    "    to_zero = 2  # Level of precision `pos` rounds to zero at\n",
    "    not_zero = to_zero + 1  # Level of precision for displaying non-zero after rounding\n",
    "\n",
    "    rprint(f\"Positive Number = {pos:+f}\")\n",
    "    rprint(f\"Rounded to {not_zero} places with 'z' = \" + repr(f\"{pos:+z.{not_zero}f}\"))\n",
    "    rprint(f\"Rounded to {to_zero} places with 'z' = \" + repr(f\"{pos:+z.{to_zero}f}\"))\n",
    "    rprint(f\"Rounded to {to_zero} places without 'z' = \" + repr(f\"{pos:+.{to_zero}f}\"))\n",
    "else:\n",
    "    print(\"The 'z' option requires Python version 3.11 or greater\")\n",
    "    print(\n",
    "        f\"Current version is: {sys.version_info.major}.{sys.version_info.minor}.{sys.version_info.micro}\"\n",
    "    )"
   ]
  },
  {
   "cell_type": "code",
   "execution_count": 17,
   "metadata": {},
   "outputs": [
    {
     "data": {
      "text/html": [
       "<pre style=\"white-space:pre;overflow-x:auto;line-height:normal;font-family:Menlo,'DejaVu Sans Mono',consolas,'Courier New',monospace\">Negative Number = <span style=\"color: #008080; text-decoration-color: #008080; font-weight: bold\">-0.003088</span>\n",
       "</pre>\n"
      ],
      "text/plain": [
       "Negative Number = \u001b[1;36m-0.003088\u001b[0m\n"
      ]
     },
     "metadata": {},
     "output_type": "display_data"
    },
    {
     "data": {
      "text/html": [
       "<pre style=\"white-space:pre;overflow-x:auto;line-height:normal;font-family:Menlo,'DejaVu Sans Mono',consolas,'Courier New',monospace\">Rounded to <span style=\"color: #008080; text-decoration-color: #008080; font-weight: bold\">3</span> places with <span style=\"color: #008000; text-decoration-color: #008000\">'z'</span> = <span style=\"color: #008000; text-decoration-color: #008000\">'-0.003'</span>\n",
       "</pre>\n"
      ],
      "text/plain": [
       "Rounded to \u001b[1;36m3\u001b[0m places with \u001b[32m'z'\u001b[0m = \u001b[32m'-0.003'\u001b[0m\n"
      ]
     },
     "metadata": {},
     "output_type": "display_data"
    },
    {
     "data": {
      "text/html": [
       "<pre style=\"white-space:pre;overflow-x:auto;line-height:normal;font-family:Menlo,'DejaVu Sans Mono',consolas,'Courier New',monospace\">Rounded to <span style=\"color: #008080; text-decoration-color: #008080; font-weight: bold\">2</span> places with <span style=\"color: #008000; text-decoration-color: #008000\">'z'</span> = <span style=\"color: #008000; text-decoration-color: #008000\">'+0.00'</span>\n",
       "</pre>\n"
      ],
      "text/plain": [
       "Rounded to \u001b[1;36m2\u001b[0m places with \u001b[32m'z'\u001b[0m = \u001b[32m'+0.00'\u001b[0m\n"
      ]
     },
     "metadata": {},
     "output_type": "display_data"
    },
    {
     "data": {
      "text/html": [
       "<pre style=\"white-space:pre;overflow-x:auto;line-height:normal;font-family:Menlo,'DejaVu Sans Mono',consolas,'Courier New',monospace\">Rounded to <span style=\"color: #008080; text-decoration-color: #008080; font-weight: bold\">2</span> places without <span style=\"color: #008000; text-decoration-color: #008000\">'z'</span> = <span style=\"color: #008000; text-decoration-color: #008000\">'-0.00'</span>\n",
       "</pre>\n"
      ],
      "text/plain": [
       "Rounded to \u001b[1;36m2\u001b[0m places without \u001b[32m'z'\u001b[0m = \u001b[32m'-0.00'\u001b[0m\n"
      ]
     },
     "metadata": {},
     "output_type": "display_data"
    }
   ],
   "source": [
    "# Example 1: Positive numbers (has no effect)\n",
    "if sys.version_info >= (3, 11):\n",
    "    neg = -0.00308781\n",
    "    to_zero = 2  # Level of precision `pos` rounds to zero at\n",
    "    not_zero = to_zero + 1  # Level of precision for displaying non-zero after rounding\n",
    "\n",
    "    rprint(f\"Negative Number = {neg:+f}\")\n",
    "    rprint(f\"Rounded to {not_zero} places with 'z' = \" + repr(f\"{neg:+z.{not_zero}f}\"))\n",
    "    rprint(f\"Rounded to {to_zero} places with 'z' = \" + repr(f\"{neg:+z.{to_zero}f}\"))\n",
    "    rprint(f\"Rounded to {to_zero} places without 'z' = \" + repr(f\"{neg:+.{to_zero}f}\"))\n",
    "else:\n",
    "    print(\"The 'z' option requires Python version 3.11 or greater\")\n",
    "    print(\n",
    "        f\"Current version is: {sys.version_info.major}.{sys.version_info.minor}.{sys.version_info.micro}\"\n",
    "    )"
   ]
  },
  {
   "attachments": {},
   "cell_type": "markdown",
   "metadata": {},
   "source": [
    "### Alternate Form `'#'`\n",
    "\n",
    "The alternate form is defined differently for different types. This option is only valid for `integer`, `float`, and `complex` types.\n",
    "\n",
    "Integers:\n",
    "Presentation Type | Base | Output Prefix\n",
    "--- | --- | ---\n",
    "`'b'` | binary | `'0b'`\n",
    "`'o'` | octal | `'0o'`\n",
    "`'x'` | hex | `'0x'`\n",
    "`'X'` | hex | `'0X'`\n",
    "\n",
    "For `float` and `complex` types (`'f'`, `'F'`) the alternate form causes the result of the conversion to always contain a decimal-point character, even if no digits follow it. Normally, a decimal-point character appears in the result of these conversions only if a digit follows it.\n",
    "\n",
    "For `'g'` and `'G'` conversions, trailing zeros are not removed from the result."
   ]
  },
  {
   "cell_type": "code",
   "execution_count": 18,
   "metadata": {},
   "outputs": [
    {
     "data": {
      "text/html": [
       "<pre style=\"white-space:pre;overflow-x:auto;line-height:normal;font-family:Menlo,'DejaVu Sans Mono',consolas,'Courier New',monospace\">Int Binary Alternate Form adds <span style=\"color: #008000; text-decoration-color: #008000\">'0b'</span> prefix\n",
       "</pre>\n"
      ],
      "text/plain": [
       "Int Binary Alternate Form adds \u001b[32m'0b'\u001b[0m prefix\n"
      ]
     },
     "metadata": {},
     "output_type": "display_data"
    },
    {
     "data": {
      "text/html": [
       "<pre style=\"white-space:pre;overflow-x:auto;line-height:normal;font-family:Menlo,'DejaVu Sans Mono',consolas,'Courier New',monospace\">Input                        :         <span style=\"color: #008080; text-decoration-color: #008080; font-weight: bold\">30</span>\n",
       "</pre>\n"
      ],
      "text/plain": [
       "Input                        :         \u001b[1;36m30\u001b[0m\n"
      ]
     },
     "metadata": {},
     "output_type": "display_data"
    },
    {
     "data": {
      "text/html": [
       "<pre style=\"white-space:pre;overflow-x:auto;line-height:normal;font-family:Menlo,'DejaVu Sans Mono',consolas,'Courier New',monospace\">Int Binary                <span style=\"font-weight: bold\">(</span>b<span style=\"font-weight: bold\">)</span>:      <span style=\"color: #008080; text-decoration-color: #008080; font-weight: bold\">11110</span>\n",
       "</pre>\n"
      ],
      "text/plain": [
       "Int Binary                \u001b[1m(\u001b[0mb\u001b[1m)\u001b[0m:      \u001b[1;36m11110\u001b[0m\n"
      ]
     },
     "metadata": {},
     "output_type": "display_data"
    },
    {
     "data": {
      "text/html": [
       "<pre style=\"white-space:pre;overflow-x:auto;line-height:normal;font-family:Menlo,'DejaVu Sans Mono',consolas,'Courier New',monospace\">Int Binary - alt         <span style=\"font-weight: bold\">(</span>#b<span style=\"font-weight: bold\">)</span>:    0b11110\n",
       "</pre>\n"
      ],
      "text/plain": [
       "Int Binary - alt         \u001b[1m(\u001b[0m#b\u001b[1m)\u001b[0m:    0b11110\n"
      ]
     },
     "metadata": {},
     "output_type": "display_data"
    },
    {
     "data": {
      "text/html": [
       "<pre style=\"white-space:pre;overflow-x:auto;line-height:normal;font-family:Menlo,'DejaVu Sans Mono',consolas,'Courier New',monospace\">Int Octal Alternate Form adds <span style=\"color: #008000; text-decoration-color: #008000\">'0o'</span> prefix\n",
       "</pre>\n"
      ],
      "text/plain": [
       "Int Octal Alternate Form adds \u001b[32m'0o'\u001b[0m prefix\n"
      ]
     },
     "metadata": {},
     "output_type": "display_data"
    },
    {
     "data": {
      "text/html": [
       "<pre style=\"white-space:pre;overflow-x:auto;line-height:normal;font-family:Menlo,'DejaVu Sans Mono',consolas,'Courier New',monospace\">Input                        :         <span style=\"color: #008080; text-decoration-color: #008080; font-weight: bold\">30</span>\n",
       "</pre>\n"
      ],
      "text/plain": [
       "Input                        :         \u001b[1;36m30\u001b[0m\n"
      ]
     },
     "metadata": {},
     "output_type": "display_data"
    },
    {
     "data": {
      "text/html": [
       "<pre style=\"white-space:pre;overflow-x:auto;line-height:normal;font-family:Menlo,'DejaVu Sans Mono',consolas,'Courier New',monospace\">Int Octal                 <span style=\"font-weight: bold\">(</span>o<span style=\"font-weight: bold\">)</span>:         <span style=\"color: #008080; text-decoration-color: #008080; font-weight: bold\">36</span>\n",
       "</pre>\n"
      ],
      "text/plain": [
       "Int Octal                 \u001b[1m(\u001b[0mo\u001b[1m)\u001b[0m:         \u001b[1;36m36\u001b[0m\n"
      ]
     },
     "metadata": {},
     "output_type": "display_data"
    },
    {
     "data": {
      "text/html": [
       "<pre style=\"white-space:pre;overflow-x:auto;line-height:normal;font-family:Menlo,'DejaVu Sans Mono',consolas,'Courier New',monospace\">Int Octal - alt          <span style=\"font-weight: bold\">(</span>#o<span style=\"font-weight: bold\">)</span>:       0o36\n",
       "</pre>\n"
      ],
      "text/plain": [
       "Int Octal - alt          \u001b[1m(\u001b[0m#o\u001b[1m)\u001b[0m:       0o36\n"
      ]
     },
     "metadata": {},
     "output_type": "display_data"
    },
    {
     "data": {
      "text/html": [
       "<pre style=\"white-space:pre;overflow-x:auto;line-height:normal;font-family:Menlo,'DejaVu Sans Mono',consolas,'Courier New',monospace\">Int Hex <span style=\"font-weight: bold\">(</span>lower<span style=\"font-weight: bold\">)</span> Alternate Form adds <span style=\"color: #008000; text-decoration-color: #008000\">'0x'</span> prefix\n",
       "</pre>\n"
      ],
      "text/plain": [
       "Int Hex \u001b[1m(\u001b[0mlower\u001b[1m)\u001b[0m Alternate Form adds \u001b[32m'0x'\u001b[0m prefix\n"
      ]
     },
     "metadata": {},
     "output_type": "display_data"
    },
    {
     "data": {
      "text/html": [
       "<pre style=\"white-space:pre;overflow-x:auto;line-height:normal;font-family:Menlo,'DejaVu Sans Mono',consolas,'Courier New',monospace\">Input                        :         <span style=\"color: #008080; text-decoration-color: #008080; font-weight: bold\">30</span>\n",
       "</pre>\n"
      ],
      "text/plain": [
       "Input                        :         \u001b[1;36m30\u001b[0m\n"
      ]
     },
     "metadata": {},
     "output_type": "display_data"
    },
    {
     "data": {
      "text/html": [
       "<pre style=\"white-space:pre;overflow-x:auto;line-height:normal;font-family:Menlo,'DejaVu Sans Mono',consolas,'Courier New',monospace\">Int Hex <span style=\"font-weight: bold\">(</span>lower<span style=\"font-weight: bold\">)</span>           <span style=\"font-weight: bold\">(</span>x<span style=\"font-weight: bold\">)</span>:         1e\n",
       "</pre>\n"
      ],
      "text/plain": [
       "Int Hex \u001b[1m(\u001b[0mlower\u001b[1m)\u001b[0m           \u001b[1m(\u001b[0mx\u001b[1m)\u001b[0m:         1e\n"
      ]
     },
     "metadata": {},
     "output_type": "display_data"
    },
    {
     "data": {
      "text/html": [
       "<pre style=\"white-space:pre;overflow-x:auto;line-height:normal;font-family:Menlo,'DejaVu Sans Mono',consolas,'Courier New',monospace\">Int Hex <span style=\"font-weight: bold\">(</span>lower<span style=\"font-weight: bold\">)</span> - alt    <span style=\"font-weight: bold\">(</span>#x<span style=\"font-weight: bold\">)</span>:       <span style=\"color: #008080; text-decoration-color: #008080; font-weight: bold\">0x1e</span>\n",
       "</pre>\n"
      ],
      "text/plain": [
       "Int Hex \u001b[1m(\u001b[0mlower\u001b[1m)\u001b[0m - alt    \u001b[1m(\u001b[0m#x\u001b[1m)\u001b[0m:       \u001b[1;36m0x1e\u001b[0m\n"
      ]
     },
     "metadata": {},
     "output_type": "display_data"
    },
    {
     "data": {
      "text/html": [
       "<pre style=\"white-space:pre;overflow-x:auto;line-height:normal;font-family:Menlo,'DejaVu Sans Mono',consolas,'Courier New',monospace\">Int Hex <span style=\"font-weight: bold\">(</span>upper<span style=\"font-weight: bold\">)</span> Alternate Form adds <span style=\"color: #008000; text-decoration-color: #008000\">'0X'</span> prefix\n",
       "</pre>\n"
      ],
      "text/plain": [
       "Int Hex \u001b[1m(\u001b[0mupper\u001b[1m)\u001b[0m Alternate Form adds \u001b[32m'0X'\u001b[0m prefix\n"
      ]
     },
     "metadata": {},
     "output_type": "display_data"
    },
    {
     "data": {
      "text/html": [
       "<pre style=\"white-space:pre;overflow-x:auto;line-height:normal;font-family:Menlo,'DejaVu Sans Mono',consolas,'Courier New',monospace\">Input                        :         <span style=\"color: #008080; text-decoration-color: #008080; font-weight: bold\">30</span>\n",
       "</pre>\n"
      ],
      "text/plain": [
       "Input                        :         \u001b[1;36m30\u001b[0m\n"
      ]
     },
     "metadata": {},
     "output_type": "display_data"
    },
    {
     "data": {
      "text/html": [
       "<pre style=\"white-space:pre;overflow-x:auto;line-height:normal;font-family:Menlo,'DejaVu Sans Mono',consolas,'Courier New',monospace\">Int Hex <span style=\"font-weight: bold\">(</span>upper<span style=\"font-weight: bold\">)</span>           <span style=\"font-weight: bold\">(</span>X<span style=\"font-weight: bold\">)</span>:         1E\n",
       "</pre>\n"
      ],
      "text/plain": [
       "Int Hex \u001b[1m(\u001b[0mupper\u001b[1m)\u001b[0m           \u001b[1m(\u001b[0mX\u001b[1m)\u001b[0m:         1E\n"
      ]
     },
     "metadata": {},
     "output_type": "display_data"
    },
    {
     "data": {
      "text/html": [
       "<pre style=\"white-space:pre;overflow-x:auto;line-height:normal;font-family:Menlo,'DejaVu Sans Mono',consolas,'Courier New',monospace\">Int Hex <span style=\"font-weight: bold\">(</span>upper<span style=\"font-weight: bold\">)</span> - alt    <span style=\"font-weight: bold\">(</span>#X<span style=\"font-weight: bold\">)</span>:       0X1E\n",
       "</pre>\n"
      ],
      "text/plain": [
       "Int Hex \u001b[1m(\u001b[0mupper\u001b[1m)\u001b[0m - alt    \u001b[1m(\u001b[0m#X\u001b[1m)\u001b[0m:       0X1E\n"
      ]
     },
     "metadata": {},
     "output_type": "display_data"
    },
    {
     "data": {
      "text/html": [
       "<pre style=\"white-space:pre;overflow-x:auto;line-height:normal;font-family:Menlo,'DejaVu Sans Mono',consolas,'Courier New',monospace\">Float/Complex Alternate Form ensures output contains <span style=\"color: #008000; text-decoration-color: #008000\">'.'</span>, even if no digits follow it\n",
       "</pre>\n"
      ],
      "text/plain": [
       "Float/Complex Alternate Form ensures output contains \u001b[32m'.'\u001b[0m, even if no digits follow it\n"
      ]
     },
     "metadata": {},
     "output_type": "display_data"
    },
    {
     "data": {
      "text/html": [
       "<pre style=\"white-space:pre;overflow-x:auto;line-height:normal;font-family:Menlo,'DejaVu Sans Mono',consolas,'Courier New',monospace\">Input                        :     <span style=\"color: #008080; text-decoration-color: #008080; font-weight: bold\">217.03</span>\n",
       "</pre>\n"
      ],
      "text/plain": [
       "Input                        :     \u001b[1;36m217.03\u001b[0m\n"
      ]
     },
     "metadata": {},
     "output_type": "display_data"
    },
    {
     "data": {
      "text/html": [
       "<pre style=\"white-space:pre;overflow-x:auto;line-height:normal;font-family:Menlo,'DejaVu Sans Mono',consolas,'Courier New',monospace\">Float/Complex           <span style=\"font-weight: bold\">(</span>.0f<span style=\"font-weight: bold\">)</span>:        <span style=\"color: #008080; text-decoration-color: #008080; font-weight: bold\">217</span>\n",
       "</pre>\n"
      ],
      "text/plain": [
       "Float/Complex           \u001b[1m(\u001b[0m.0f\u001b[1m)\u001b[0m:        \u001b[1;36m217\u001b[0m\n"
      ]
     },
     "metadata": {},
     "output_type": "display_data"
    },
    {
     "data": {
      "text/html": [
       "<pre style=\"white-space:pre;overflow-x:auto;line-height:normal;font-family:Menlo,'DejaVu Sans Mono',consolas,'Courier New',monospace\">Float/Complex - alt    <span style=\"font-weight: bold\">(</span>#.0f<span style=\"font-weight: bold\">)</span>:       <span style=\"color: #008080; text-decoration-color: #008080; font-weight: bold\">217</span>.\n",
       "</pre>\n"
      ],
      "text/plain": [
       "Float/Complex - alt    \u001b[1m(\u001b[0m#.0f\u001b[1m)\u001b[0m:       \u001b[1;36m217\u001b[0m.\n"
      ]
     },
     "metadata": {},
     "output_type": "display_data"
    },
    {
     "data": {
      "text/html": [
       "<pre style=\"white-space:pre;overflow-x:auto;line-height:normal;font-family:Menlo,'DejaVu Sans Mono',consolas,'Courier New',monospace\">Input                        :     <span style=\"color: #008080; text-decoration-color: #008080; font-weight: bold\">217.03</span>\n",
       "</pre>\n"
      ],
      "text/plain": [
       "Input                        :     \u001b[1;36m217.03\u001b[0m\n"
      ]
     },
     "metadata": {},
     "output_type": "display_data"
    },
    {
     "data": {
      "text/html": [
       "<pre style=\"white-space:pre;overflow-x:auto;line-height:normal;font-family:Menlo,'DejaVu Sans Mono',consolas,'Courier New',monospace\">Float/Complex           <span style=\"font-weight: bold\">(</span>.2f<span style=\"font-weight: bold\">)</span>:     <span style=\"color: #008080; text-decoration-color: #008080; font-weight: bold\">217.03</span>\n",
       "</pre>\n"
      ],
      "text/plain": [
       "Float/Complex           \u001b[1m(\u001b[0m.2f\u001b[1m)\u001b[0m:     \u001b[1;36m217.03\u001b[0m\n"
      ]
     },
     "metadata": {},
     "output_type": "display_data"
    },
    {
     "data": {
      "text/html": [
       "<pre style=\"white-space:pre;overflow-x:auto;line-height:normal;font-family:Menlo,'DejaVu Sans Mono',consolas,'Courier New',monospace\">Float/Complex - alt    <span style=\"font-weight: bold\">(</span>#.2f<span style=\"font-weight: bold\">)</span>:     <span style=\"color: #008080; text-decoration-color: #008080; font-weight: bold\">217.03</span>\n",
       "</pre>\n"
      ],
      "text/plain": [
       "Float/Complex - alt    \u001b[1m(\u001b[0m#.2f\u001b[1m)\u001b[0m:     \u001b[1;36m217.03\u001b[0m\n"
      ]
     },
     "metadata": {},
     "output_type": "display_data"
    },
    {
     "data": {
      "text/html": [
       "<pre style=\"white-space:pre;overflow-x:auto;line-height:normal;font-family:Menlo,'DejaVu Sans Mono',consolas,'Courier New',monospace\">Input                        :  <span style=\"font-weight: bold\">(</span><span style=\"color: #008080; text-decoration-color: #008080; font-weight: bold\">4.33+2j</span><span style=\"font-weight: bold\">)</span>\n",
       "</pre>\n"
      ],
      "text/plain": [
       "Input                        :  \u001b[1m(\u001b[0m\u001b[1;36m4.33+2j\u001b[0m\u001b[1m)\u001b[0m\n"
      ]
     },
     "metadata": {},
     "output_type": "display_data"
    },
    {
     "data": {
      "text/html": [
       "<pre style=\"white-space:pre;overflow-x:auto;line-height:normal;font-family:Menlo,'DejaVu Sans Mono',consolas,'Courier New',monospace\">Float/Complex           <span style=\"font-weight: bold\">(</span>.0f<span style=\"font-weight: bold\">)</span>:       <span style=\"color: #008080; text-decoration-color: #008080; font-weight: bold\">4+2j</span>\n",
       "</pre>\n"
      ],
      "text/plain": [
       "Float/Complex           \u001b[1m(\u001b[0m.0f\u001b[1m)\u001b[0m:       \u001b[1;36m4+2j\u001b[0m\n"
      ]
     },
     "metadata": {},
     "output_type": "display_data"
    },
    {
     "data": {
      "text/html": [
       "<pre style=\"white-space:pre;overflow-x:auto;line-height:normal;font-family:Menlo,'DejaVu Sans Mono',consolas,'Courier New',monospace\">Float/Complex - alt    <span style=\"font-weight: bold\">(</span>#.0f<span style=\"font-weight: bold\">)</span>:     <span style=\"color: #008080; text-decoration-color: #008080; font-weight: bold\">4.+2.j</span>\n",
       "</pre>\n"
      ],
      "text/plain": [
       "Float/Complex - alt    \u001b[1m(\u001b[0m#.0f\u001b[1m)\u001b[0m:     \u001b[1;36m4.+2.j\u001b[0m\n"
      ]
     },
     "metadata": {},
     "output_type": "display_data"
    },
    {
     "data": {
      "text/html": [
       "<pre style=\"white-space:pre;overflow-x:auto;line-height:normal;font-family:Menlo,'DejaVu Sans Mono',consolas,'Courier New',monospace\">Input                        :  <span style=\"font-weight: bold\">(</span><span style=\"color: #008080; text-decoration-color: #008080; font-weight: bold\">4.33+2j</span><span style=\"font-weight: bold\">)</span>\n",
       "</pre>\n"
      ],
      "text/plain": [
       "Input                        :  \u001b[1m(\u001b[0m\u001b[1;36m4.33+2j\u001b[0m\u001b[1m)\u001b[0m\n"
      ]
     },
     "metadata": {},
     "output_type": "display_data"
    },
    {
     "data": {
      "text/html": [
       "<pre style=\"white-space:pre;overflow-x:auto;line-height:normal;font-family:Menlo,'DejaVu Sans Mono',consolas,'Courier New',monospace\">Float/Complex           <span style=\"font-weight: bold\">(</span>.1f<span style=\"font-weight: bold\">)</span>:   <span style=\"color: #008080; text-decoration-color: #008080; font-weight: bold\">4.3+2.0j</span>\n",
       "</pre>\n"
      ],
      "text/plain": [
       "Float/Complex           \u001b[1m(\u001b[0m.1f\u001b[1m)\u001b[0m:   \u001b[1;36m4.3+2.0j\u001b[0m\n"
      ]
     },
     "metadata": {},
     "output_type": "display_data"
    },
    {
     "data": {
      "text/html": [
       "<pre style=\"white-space:pre;overflow-x:auto;line-height:normal;font-family:Menlo,'DejaVu Sans Mono',consolas,'Courier New',monospace\">Float/Complex - alt    <span style=\"font-weight: bold\">(</span>#.1f<span style=\"font-weight: bold\">)</span>:   <span style=\"color: #008080; text-decoration-color: #008080; font-weight: bold\">4.3+2.0j</span>\n",
       "</pre>\n"
      ],
      "text/plain": [
       "Float/Complex - alt    \u001b[1m(\u001b[0m#.1f\u001b[1m)\u001b[0m:   \u001b[1;36m4.3+2.0j\u001b[0m\n"
      ]
     },
     "metadata": {},
     "output_type": "display_data"
    },
    {
     "data": {
      "text/html": [
       "<pre style=\"white-space:pre;overflow-x:auto;line-height:normal;font-family:Menlo,'DejaVu Sans Mono',consolas,'Courier New',monospace\">General Alternate Form ensures trailing zeroes remain in the result\n",
       "</pre>\n"
      ],
      "text/plain": [
       "General Alternate Form ensures trailing zeroes remain in the result\n"
      ]
     },
     "metadata": {},
     "output_type": "display_data"
    },
    {
     "data": {
      "text/html": [
       "<pre style=\"white-space:pre;overflow-x:auto;line-height:normal;font-family:Menlo,'DejaVu Sans Mono',consolas,'Courier New',monospace\">Input                        :     <span style=\"color: #008080; text-decoration-color: #008080; font-weight: bold\">217.03</span>\n",
       "</pre>\n"
      ],
      "text/plain": [
       "Input                        :     \u001b[1;36m217.03\u001b[0m\n"
      ]
     },
     "metadata": {},
     "output_type": "display_data"
    },
    {
     "data": {
      "text/html": [
       "<pre style=\"white-space:pre;overflow-x:auto;line-height:normal;font-family:Menlo,'DejaVu Sans Mono',consolas,'Courier New',monospace\">General                 <span style=\"font-weight: bold\">(</span>.6g<span style=\"font-weight: bold\">)</span>:     <span style=\"color: #008080; text-decoration-color: #008080; font-weight: bold\">217.03</span>\n",
       "</pre>\n"
      ],
      "text/plain": [
       "General                 \u001b[1m(\u001b[0m.6g\u001b[1m)\u001b[0m:     \u001b[1;36m217.03\u001b[0m\n"
      ]
     },
     "metadata": {},
     "output_type": "display_data"
    },
    {
     "data": {
      "text/html": [
       "<pre style=\"white-space:pre;overflow-x:auto;line-height:normal;font-family:Menlo,'DejaVu Sans Mono',consolas,'Courier New',monospace\">General - alt          <span style=\"font-weight: bold\">(</span>#.6g<span style=\"font-weight: bold\">)</span>:    <span style=\"color: #008080; text-decoration-color: #008080; font-weight: bold\">217.030</span>\n",
       "</pre>\n"
      ],
      "text/plain": [
       "General - alt          \u001b[1m(\u001b[0m#.6g\u001b[1m)\u001b[0m:    \u001b[1;36m217.030\u001b[0m\n"
      ]
     },
     "metadata": {},
     "output_type": "display_data"
    },
    {
     "data": {
      "text/html": [
       "<pre style=\"white-space:pre;overflow-x:auto;line-height:normal;font-family:Menlo,'DejaVu Sans Mono',consolas,'Courier New',monospace\">Input                        :  <span style=\"font-weight: bold\">(</span><span style=\"color: #008080; text-decoration-color: #008080; font-weight: bold\">4.33+2j</span><span style=\"font-weight: bold\">)</span>\n",
       "</pre>\n"
      ],
      "text/plain": [
       "Input                        :  \u001b[1m(\u001b[0m\u001b[1;36m4.33+2j\u001b[0m\u001b[1m)\u001b[0m\n"
      ]
     },
     "metadata": {},
     "output_type": "display_data"
    },
    {
     "data": {
      "text/html": [
       "<pre style=\"white-space:pre;overflow-x:auto;line-height:normal;font-family:Menlo,'DejaVu Sans Mono',consolas,'Courier New',monospace\">General                 <span style=\"font-weight: bold\">(</span>.3g<span style=\"font-weight: bold\">)</span>:    <span style=\"color: #008080; text-decoration-color: #008080; font-weight: bold\">4.33+2j</span>\n",
       "</pre>\n"
      ],
      "text/plain": [
       "General                 \u001b[1m(\u001b[0m.3g\u001b[1m)\u001b[0m:    \u001b[1;36m4.33+2j\u001b[0m\n"
      ]
     },
     "metadata": {},
     "output_type": "display_data"
    },
    {
     "data": {
      "text/html": [
       "<pre style=\"white-space:pre;overflow-x:auto;line-height:normal;font-family:Menlo,'DejaVu Sans Mono',consolas,'Courier New',monospace\">General - alt          <span style=\"font-weight: bold\">(</span>#.3g<span style=\"font-weight: bold\">)</span>: <span style=\"color: #008080; text-decoration-color: #008080; font-weight: bold\">4.33+2.00j</span>\n",
       "</pre>\n"
      ],
      "text/plain": [
       "General - alt          \u001b[1m(\u001b[0m#.3g\u001b[1m)\u001b[0m: \u001b[1;36m4.33+2.00j\u001b[0m\n"
      ]
     },
     "metadata": {},
     "output_type": "display_data"
    }
   ],
   "source": [
    "numeric = Union[int, float, complex]\n",
    "\n",
    "my_int = 30\n",
    "my_float = 217.03\n",
    "my_complex = 4.33 + 2.0j\n",
    "\n",
    "name_align = \"<22\"\n",
    "fmt_align = \">6\"\n",
    "def_output_fmt = \">10\"\n",
    "alt_output_fmt = \">#10\"\n",
    "\n",
    "cases: dict[str, tuple[list[tuple[str, numeric]], str]] = {\n",
    "    \"Int Binary\": ([(\"b\", my_int)], \"adds '0b' prefix\"),\n",
    "    \"Int Octal\": ([(\"o\", my_int)], \"adds '0o' prefix\"),\n",
    "    \"Int Hex (lower)\": ([(\"x\", my_int)], \"adds '0x' prefix\"),\n",
    "    \"Int Hex (upper)\": ([(\"X\", my_int)], \"adds '0X' prefix\"),\n",
    "    \"Float/Complex\": (\n",
    "        [\n",
    "            (\".0f\", my_float),\n",
    "            (\".2f\", my_float),\n",
    "            (\".0f\", my_complex),\n",
    "            (\".1f\", my_complex),\n",
    "        ],\n",
    "        \"ensures output contains '.', even if no digits follow it\",\n",
    "    ),\n",
    "    \"General\": (\n",
    "        [(\".6g\", my_float), (\".3g\", my_complex)],\n",
    "        \"ensures trailing zeroes remain in the result\",\n",
    "    ),\n",
    "}\n",
    "\n",
    "for type_name, val in cases.items():\n",
    "\n",
    "    tuples = val[0]\n",
    "    desc = val[1]\n",
    "\n",
    "    rprint(f\"{type_name} Alternate Form {desc}\")\n",
    "\n",
    "    for fmt, in_val in tuples:\n",
    "\n",
    "        rprint(f\"{'Input':29}: {in_val!r:{def_output_fmt}}\")\n",
    "\n",
    "        rprint(\n",
    "            f\"{type_name:{name_align}} {'('+ fmt +')':{fmt_align}}: {in_val:{def_output_fmt}{fmt}}\"\n",
    "        )\n",
    "        rprint(\n",
    "            f\"{type_name + ' - alt':{name_align}} {'(#'+ fmt +')':{fmt_align}}: {in_val:{alt_output_fmt}{fmt}}\"\n",
    "        )"
   ]
  },
  {
   "cell_type": "markdown",
   "metadata": {},
   "source": [
    "### Width Prefix `'0'`\n",
    "\n",
    "Numeric Types:\n",
    "When no explicit alignment is given, preceding the width field by a zero (`'0'`) character enables sign-aware zero-padding. This is equivalent to a fill character of `'0'` with an alignment type of `'='`.\n",
    "\n",
    "Non-Numeric Types:\n",
    "When no explicit alignment is given, preceding the width field by a zero (`'0'`) character zero-pads the object using its default alignment."
   ]
  },
  {
   "cell_type": "markdown",
   "metadata": {},
   "source": [
    "### Width\n",
    "\n",
    "A decimal integer defining the minimum total field width, including any prefixes, separators, and other formatting characters. If not specified, then the field width will be determined by the content."
   ]
  },
  {
   "cell_type": "markdown",
   "metadata": {},
   "source": [
    "### Grouping Option\n",
    "\n",
    "For a locale aware separator, use the `'n'` integer presentation type instead.\n",
    "\n",
    "Option | Meaning\n",
    "--- | ---\n",
    "`','` | Signals the use of a comma for a thousands separator for floating point presentation types and for integer presentation type `'d'`. For other presentation types, specifying this option is an error.\n",
    "`'_'` | Signals the use of an underscore for a thousands separator for floating point presentation types and for integer presentation type `'d'`. For integer presentation types `'b'`, `'o'`, `'x'`, and `'X'`, underscores will be inserted every 4 digits. For other presentation types, specifying this option is an error."
   ]
  },
  {
   "cell_type": "code",
   "execution_count": 19,
   "metadata": {},
   "outputs": [
    {
     "data": {
      "text/html": [
       "<pre style=\"white-space:pre;overflow-x:auto;line-height:normal;font-family:Menlo,'DejaVu Sans Mono',consolas,'Courier New',monospace\">Floats\n",
       "</pre>\n"
      ],
      "text/plain": [
       "Floats\n"
      ]
     },
     "metadata": {},
     "output_type": "display_data"
    },
    {
     "data": {
      "text/html": [
       "<pre style=\"white-space:pre;overflow-x:auto;line-height:normal;font-family:Menlo,'DejaVu Sans Mono',consolas,'Courier New',monospace\"><span style=\"color: #008000; text-decoration-color: #008000\">'12345.6789'</span>\n",
       "</pre>\n"
      ],
      "text/plain": [
       "\u001b[32m'12345.6789'\u001b[0m\n"
      ]
     },
     "metadata": {},
     "output_type": "display_data"
    },
    {
     "data": {
      "text/html": [
       "<pre style=\"white-space:pre;overflow-x:auto;line-height:normal;font-family:Menlo,'DejaVu Sans Mono',consolas,'Courier New',monospace\"><span style=\"color: #008000; text-decoration-color: #008000\">'12,345.6789'</span>\n",
       "</pre>\n"
      ],
      "text/plain": [
       "\u001b[32m'12,345.6789'\u001b[0m\n"
      ]
     },
     "metadata": {},
     "output_type": "display_data"
    },
    {
     "data": {
      "text/html": [
       "<pre style=\"white-space:pre;overflow-x:auto;line-height:normal;font-family:Menlo,'DejaVu Sans Mono',consolas,'Courier New',monospace\"><span style=\"color: #008000; text-decoration-color: #008000\">'12_345.6789'</span>\n",
       "</pre>\n"
      ],
      "text/plain": [
       "\u001b[32m'12_345.6789'\u001b[0m\n"
      ]
     },
     "metadata": {},
     "output_type": "display_data"
    },
    {
     "data": {
      "text/html": [
       "<pre style=\"white-space:pre;overflow-x:auto;line-height:normal;font-family:Menlo,'DejaVu Sans Mono',consolas,'Courier New',monospace\">Integer\n",
       "</pre>\n"
      ],
      "text/plain": [
       "Integer\n"
      ]
     },
     "metadata": {},
     "output_type": "display_data"
    },
    {
     "data": {
      "text/html": [
       "<pre style=\"white-space:pre;overflow-x:auto;line-height:normal;font-family:Menlo,'DejaVu Sans Mono',consolas,'Courier New',monospace\"><span style=\"color: #008000; text-decoration-color: #008000\">'4096'</span>\n",
       "</pre>\n"
      ],
      "text/plain": [
       "\u001b[32m'4096'\u001b[0m\n"
      ]
     },
     "metadata": {},
     "output_type": "display_data"
    },
    {
     "data": {
      "text/html": [
       "<pre style=\"white-space:pre;overflow-x:auto;line-height:normal;font-family:Menlo,'DejaVu Sans Mono',consolas,'Courier New',monospace\"><span style=\"color: #008000; text-decoration-color: #008000\">'4,096'</span>\n",
       "</pre>\n"
      ],
      "text/plain": [
       "\u001b[32m'4,096'\u001b[0m\n"
      ]
     },
     "metadata": {},
     "output_type": "display_data"
    },
    {
     "data": {
      "text/html": [
       "<pre style=\"white-space:pre;overflow-x:auto;line-height:normal;font-family:Menlo,'DejaVu Sans Mono',consolas,'Courier New',monospace\"><span style=\"color: #008000; text-decoration-color: #008000\">'4_096'</span>\n",
       "</pre>\n"
      ],
      "text/plain": [
       "\u001b[32m'4_096'\u001b[0m\n"
      ]
     },
     "metadata": {},
     "output_type": "display_data"
    },
    {
     "data": {
      "text/html": [
       "<pre style=\"white-space:pre;overflow-x:auto;line-height:normal;font-family:Menlo,'DejaVu Sans Mono',consolas,'Courier New',monospace\"><span style=\"color: #008000; text-decoration-color: #008000\">'0x1000'</span>\n",
       "</pre>\n"
      ],
      "text/plain": [
       "\u001b[32m'0x1000'\u001b[0m\n"
      ]
     },
     "metadata": {},
     "output_type": "display_data"
    },
    {
     "data": {
      "text/html": [
       "<pre style=\"white-space:pre;overflow-x:auto;line-height:normal;font-family:Menlo,'DejaVu Sans Mono',consolas,'Courier New',monospace\"><span style=\"color: #008000; text-decoration-color: #008000\">'0o1_0000'</span>\n",
       "</pre>\n"
      ],
      "text/plain": [
       "\u001b[32m'0o1_0000'\u001b[0m\n"
      ]
     },
     "metadata": {},
     "output_type": "display_data"
    },
    {
     "data": {
      "text/html": [
       "<pre style=\"white-space:pre;overflow-x:auto;line-height:normal;font-family:Menlo,'DejaVu Sans Mono',consolas,'Courier New',monospace\"><span style=\"color: #008000; text-decoration-color: #008000\">'0b1_0000_0000_0000'</span>\n",
       "</pre>\n"
      ],
      "text/plain": [
       "\u001b[32m'0b1_0000_0000_0000'\u001b[0m\n"
      ]
     },
     "metadata": {},
     "output_type": "display_data"
    }
   ],
   "source": [
    "myfloat = 12345.6789\n",
    "rprint(\"Floats\")\n",
    "rprint(repr(f\"{myfloat}\"))\n",
    "rprint(repr(f\"{myfloat:,}\"))\n",
    "rprint(repr(f\"{myfloat:_}\"))\n",
    "myint = 4096\n",
    "rprint(\"Integer\")\n",
    "rprint(repr(f\"{myint}\"))\n",
    "rprint(repr(f\"{myint:,}\"))\n",
    "rprint(repr(f\"{myint:_}\"))\n",
    "rprint(repr(f\"{myint:#_x}\"))\n",
    "rprint(repr(f\"{myint:#_o}\"))\n",
    "rprint(repr(f\"{myint:#_b}\"))\n"
   ]
  },
  {
   "cell_type": "markdown",
   "metadata": {},
   "source": [
    "### Precision '`.[0-9]+`'\n",
    "\n",
    "A decimal integer indicating how many digits should be displayed after the decimal point for presentation types `'f'` and `'F'`, or before and after the decimal point for presentation types `'g'` or `'G'`. For string presentation types *Precision* indicates the maximum field size - in other words, how many characters will be used from the field content. *Precision* is not allowed for integer presentation types."
   ]
  },
  {
   "cell_type": "code",
   "execution_count": 20,
   "metadata": {},
   "outputs": [
    {
     "data": {
      "text/html": [
       "<pre style=\"white-space:pre;overflow-x:auto;line-height:normal;font-family:Menlo,'DejaVu Sans Mono',consolas,'Courier New',monospace\"><span style=\"color: #008000; text-decoration-color: #008000\">'12345.6789'</span>\n",
       "</pre>\n"
      ],
      "text/plain": [
       "\u001b[32m'12345.6789'\u001b[0m\n"
      ]
     },
     "metadata": {},
     "output_type": "display_data"
    },
    {
     "data": {
      "text/html": [
       "<pre style=\"white-space:pre;overflow-x:auto;line-height:normal;font-family:Menlo,'DejaVu Sans Mono',consolas,'Courier New',monospace\"><span style=\"color: #008000; text-decoration-color: #008000\">'12345.679'</span>\n",
       "</pre>\n"
      ],
      "text/plain": [
       "\u001b[32m'12345.679'\u001b[0m\n"
      ]
     },
     "metadata": {},
     "output_type": "display_data"
    },
    {
     "data": {
      "text/html": [
       "<pre style=\"white-space:pre;overflow-x:auto;line-height:normal;font-family:Menlo,'DejaVu Sans Mono',consolas,'Courier New',monospace\"><span style=\"color: #008000; text-decoration-color: #008000\">'12345.68'</span>\n",
       "</pre>\n"
      ],
      "text/plain": [
       "\u001b[32m'12345.68'\u001b[0m\n"
      ]
     },
     "metadata": {},
     "output_type": "display_data"
    },
    {
     "data": {
      "text/html": [
       "<pre style=\"white-space:pre;overflow-x:auto;line-height:normal;font-family:Menlo,'DejaVu Sans Mono',consolas,'Courier New',monospace\"><span style=\"color: #008000; text-decoration-color: #008000\">'Hello'</span>\n",
       "</pre>\n"
      ],
      "text/plain": [
       "\u001b[32m'Hello'\u001b[0m\n"
      ]
     },
     "metadata": {},
     "output_type": "display_data"
    },
    {
     "data": {
      "text/html": [
       "<pre style=\"white-space:pre;overflow-x:auto;line-height:normal;font-family:Menlo,'DejaVu Sans Mono',consolas,'Courier New',monospace\"><span style=\"color: #008000; text-decoration-color: #008000\">'12345.68'</span>\n",
       "</pre>\n"
      ],
      "text/plain": [
       "\u001b[32m'12345.68'\u001b[0m\n"
      ]
     },
     "metadata": {},
     "output_type": "display_data"
    }
   ],
   "source": [
    "from decimal import Decimal\n",
    "myfloat = 12345.6789\n",
    "mydecimal = Decimal('12345.6789')\n",
    "rprint(repr(f\"{myfloat}\"))\n",
    "rprint(repr(f\"{myfloat:.3f}\"))\n",
    "rprint(repr(f\"{myfloat:.2f}\"))\n",
    "rprint(repr(f\"{'Hello, World!':.5}\"))\n",
    "rprint(repr(f\"{mydecimal:.2f}\"))"
   ]
  },
  {
   "cell_type": "markdown",
   "metadata": {},
   "source": [
    "### Type\n",
    "\n",
    "Determines how the data should be presented."
   ]
  },
  {
   "cell_type": "markdown",
   "metadata": {},
   "source": [
    "#### `string`\n",
    "\n",
    "Type | Meaning\n",
    "--- | ---\n",
    "`'s'` | String format. This is the default type for strings and may be omitted.\n",
    "None | The same as `'s'`\n"
   ]
  },
  {
   "cell_type": "markdown",
   "metadata": {},
   "source": [
    "#### `integer`\n",
    "\n",
    "Type | Meaning\n",
    "--- | ---\n",
    "`'b'` | Binary format. Outputs the number in base 2.\n",
    "`'c'` | Character. Converts the integer to the corresponding unicode character before printing.\n",
    "`'d'` | Decimal Integer. Outputs the number in base 10.\n",
    "`'o'` | Octal format. Outputs the number in base 8.\n",
    "`'x'` | Hex format. Outputs the number in base 16, using lower-case letters for the digits above 9.\n",
    "`'X'` | Hex format. Outputs the number in base 16, using upper-case letters for the digits above 9. In case `'#'` is specified, the prefix `'0x'` will be upper-cased to `'0X'` as well.\n",
    "`'n'` | Number. This is the same as `'d'`, except that it uses the current locale setting to insert the appropriate number separator characters.\n",
    "None | The same as `'d'`.\n",
    "\n",
    "In addition to the above presentation types, integers can be formatted with the floating point presentation types listed below (except `'n'` and `None`). When doing so, `float()` is used to convert the integer to a floating point number before formatting."
   ]
  },
  {
   "cell_type": "markdown",
   "metadata": {},
   "source": [
    "#### `float` and `Decimal`\n",
    "\n",
    "Type | Meaning\n",
    "--- | ---\n",
    "`'e'` | Scientific notation. For a given precision `p`, formats the number in scientific notation with the letter 'e' separating the coefficient from the exponent. The coefficient has one digit before and `p` digits after the decimal point, for a total of `p + 1` significant digits. With no precision given, uses a precision of `6` digits after the decimal point for `float`, and shows all coefficient digits for `Decimal`. If no digits follow the decimal point, the decimal point is also removed unless the `#` option is used.\n",
    "`'E'` | Scientific notation. Same as `'e'` except it uses an upper case 'E' as the separator character.\n",
    "`'f'` | Fixed-point notation. For a given precision `p`, formats the number as a decimal number with exactly `p` digits following the decimal point. With no precision given, uses a precision of `6` digits after the decimal point for `float`, and uses a precision large enough to show all coefficient digits for `Decimal`. If no digits follow the decimal point, the decimal point is also removed unless the `#` option is used.\n",
    "`'F'` | Fixed-point notation. Same as `'f'`, but converts `nan` to `NAN` and `inf` to `INF`.\n",
    "`'g'` | General format. For a given precision `p >= 1`, this rounds the number to `p` significant digits and then formats the result in either fixed-point format or in scientific notation, depending on its magnitude. A precision of `0` is treated as equivalent to a precision of `1`.<br/><br/>The precise rules are as follows: suppose that the result formatted with presentation type `'e'` and precision `p-1` would have exponent `exp`. Then, if `m <= exp < p`, where `m` is -4 for floats and -6 for `Decimals`, the number is formatted with presentation type `'f'` and precision `p-1-exp`. Otherwise, the number is formatted with presentation type `'e'` and precision `p-1`. In both cases insignificant trailing zeros are removed from the significand, and the decimal point is also removed if there are no remaining digits following it, unless the `'#'` option is used.<br/><br/>With no precision given, uses a precision of `6` significant digits for `float`. For `Decimal`, the coefficient of the result is formed from the coefficient digits of the value; scientific notation is used for values smaller than `1e-6` in absolute value and values where the place value of the least significant digit is larger than 1, and fixed-point notation is used otherwise.<br/><br/>Positive and negative infinity, positive and negative zero, and nans, are formatted as `inf`, `-inf`, `0`, `-0`, and `nan` respectively, regardless of the precision.\n",
    "`'G'` | General format. Same as `'g'` except switches to `'E'` if the number gets too large. The representations of infinity and NaN are uppercased, too.\n",
    "`'n'` | Number. This is the same as `'g'`, except that it uses the current locale setting to insert the appropriate number separator characters.\n",
    "`'%'` | Percentage. Multiplies the number by 100 and displays in fixed (`'f'`) format, followed by a percent sign.\n",
    "None | For float this is the same as `'g'`, except that when fixed-point notation is used to format the result, it always includes at least one digit past the decimal point. The precision used is as large as needed to represent the given value faithfully.<br/><br/>For `Decimal`, this is the same as either `'g'` or `'G'` depending on the value of `context.capitals` for the current decimal context.<br/><br/>The overall effect is to match the output of `str()` as altered by the other format modifiers."
   ]
  }
 ],
 "metadata": {
  "kernelspec": {
   "display_name": "Python 3",
   "language": "python",
   "name": "python3"
  },
  "language_info": {
   "codemirror_mode": {
    "name": "ipython",
    "version": 3
   },
   "file_extension": ".py",
   "mimetype": "text/x-python",
   "name": "python",
   "nbconvert_exporter": "python",
   "pygments_lexer": "ipython3",
   "version": "3.11.1"
  },
  "orig_nbformat": 4,
  "vscode": {
   "interpreter": {
    "hash": "e07c6faaa8a76250ad6ce107b3d99a6e54f1fb5ec7a939cc1b1785bc3f6f9818"
   }
  }
 },
 "nbformat": 4,
 "nbformat_minor": 2
}
