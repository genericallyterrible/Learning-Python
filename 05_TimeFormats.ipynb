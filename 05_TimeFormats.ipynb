{
 "cells": [
  {
   "cell_type": "markdown",
   "metadata": {},
   "source": [
    "### `strftime()` and `strptime()` Format Codes\n",
    "\n",
    "The following is a list of all the format codes that the 1989 C standard requires, and these work on all platforms with a standard C implementation."
   ]
  },
  {
   "cell_type": "markdown",
   "metadata": {},
   "source": [
    "Directive | Meaning | Example | Notes\n",
    "--- | --- | --- | :---:\n",
    "`%a` | Weekday as locale's abbreviate name. | `Sun`, `Mon`, ..., `Sat` (en_US);<br/>`So`, `Mo`, ..., `Sa` (de_DE) | 1\n",
    "`%A` | Weekday as locale's full name. | `Sunday`, `Monday`, ..., `Saturday` (en_US);<br/>`Sonntag`, `Montag`, ..., `Samstag` (de_DE) | 1\n",
    "`%w` | Weekday as a decimal number, where `0` is Sunday and `6` is Saturday | `0`, `1`, ..., `6` | \n",
    "`%d` | Day of the month as a zero-padded decimal number | `01`, `02`, ..., `31` | 9\n",
    "`%b` | Month as locale's abbreviated name. | `Jan`, `Feb`, ..., `Dec` (en_US);<br/>`Jan`, `Feb`, ..., `Dez` (de_DE) | 1\n",
    "`%B` | Month as locale's full name. | `January`, `February`, ..., `December` (en_US);<br/>`Januar`, `Februar`, ..., `Dezember` (de_DE) | 1\n",
    "`%m` | Month as a zero-padded decimal number. | `01`, `02`, ..., `12` | 9\n",
    "`%y` | Year without century as a zero-padded decimal number | `00`, `01`, ..., `99` | 9\n",
    "`%Y` | Year with century as a decimal number. | `0001`, `0002`, ..., `2013`, `2014`, ..., `9998`, `9999` | 2\n",
    "`%H` | Hour (24-hour clock) as a zero-padded decimal number. | `00`, `01`, ..., `23` | 9\n",
    "`%I` | Hour (12-hour clock) as a zero-padded decimal number. | `01`, `02`, ..., `12` | 9\n",
    "`%p` | Locale's equivalent of either AM or PM. | `AM`, `PM` (en_US);<br/>`am`, `pm` (de_DE) | 1, 3\n",
    "`%M` | Minute as a zero-padded decimal number. | `00`, `01`, ..., `59` | 9\n",
    "`%S` | Second as a zero-padded decimal number. | `00`, `01`, ..., `59` | 4, 9\n",
    "`%f` | Microsecond as a decimal number, zero-padded to 6 digits. | `000000`, `000001`, ..., `999999` | 5\n",
    "`%z` | UTC offset in the form `±HHMM[SS[.ffffff]]` (empty string if the object is naive). | (empty), `+0000`, `-0400`, `+1030`, `+063415`, `-030712.345216` | 6\n",
    "`%Z` | Time zone name (empty string if the object is naive). | (empty), `UTC`, `GMT` | 6\n",
    "`%j` | Day of the year as a zero-padded decimal number. | `001`, `002`, ..., `366` | 9\n",
    "`%U` | Week number of the year (Sunday as the first day of the week) as a zero-padded decimal number. All days in a new year preceding the first Sunday are considered to be in week 0. | `00`, `01`, ..., `53` | 7, 9\n",
    "`%W` | Week number of the year (Monday as the first day of the week) as a zero-padded decimal number. All days in a new year preceding the first Monday are considered to be in week 0. | `00`, `01`, ..., `53` | 7, 9\n",
    "`%c` | Locale's appropriate date and time representation. | `Tue Aug 16 21:30:00 1988` (en_US);<br/>`Di 16 Aug 21:30:00 1988` (de_DE) | 1\n",
    "`%x` | Locale's appropriate date representation. | `08/16/88` (None);<br/>`08/16/1988` (en_US);<br/>`16.08.1988` (de_DE) | 1\n",
    "`%X` | Locale's appropriate time representation. | `21:30:00` (en_US);<br/>`21:30:00` (de_DE) | 1\n",
    "`%%` | A literal `'%'` character. | `%`"
   ]
  },
  {
   "cell_type": "markdown",
   "metadata": {},
   "source": [
    "Several additional directives not required by the C89 standard are included for convenience. These parameters all correspond to ISO 8601 date values.\n",
    "\n",
    "Directive | Meaning | Example | Notes\n",
    "--- | --- | --- | :---:\n",
    "`%G` | ISO 8601 year with century representing the year that contains the greater part of the ISO week (`%V`). | `0001`, `0002`, ..., `2013`, `2014`, ..., `9998`, `9999` | 8\n",
    "`%u` | ISO 8601 weekday as a decimal number where 1 is Monday. | `1`, `2`, ..., `7` | \n",
    "`%V` | ISO 8601 week as a decimal number with Monday as the first day of the week. Week 01 is the week containing Jan 4. | 01, 02, ..., 53 | 8, 9\n",
    "\n",
    "These may not be available on all platforms when used with the `strftime()` method. The ISO 8601 year and ISO 8601 week directives are not interchangeable with the year and week number directives above. Calling `strptime()` with incomplete or ambiguous ISO 8601 directives will raise a [`ValueError`](https://docs.python.org/3/library/exceptions.html#ValueError).\n",
    "\n",
    "The full set of format codes supported varies across platforms, because Python calls the platform C library’s [`strftime()`](https://manpages.debian.org/strftime(3)) function, and platform variations are common. To see the full set of format codes supported on your platform, consult the strftime(3) documentation. There are also differences between platforms in handling of unsupported format specifiers."
   ]
  },
  {
   "cell_type": "markdown",
   "metadata": {},
   "source": [
    "### Technical Detail\n",
    "\n",
    "1. Because the format depends on the current locale, care should be taken when making assumptions about the output value. Field orderings will vary (for example, “month/day/year” versus “day/month/year”), and the output may contain Unicode characters encoded using the locale’s default encoding (for example, if the current locale is `ja_JP`, the default encoding could be any one of `eucJP`, `SJIS`, or `utf-8`; use [`locale.getlocale()`](https://docs.python.org/3/library/locale.html#locale.getlocale) to determine the current locale’s encoding).\n",
    "2. The `strptime()` method can parse years in the full [`1`, `9999`] range, but years < `1000` must be zero-filled to 4-digit width.\n",
    "3. When used with the `strptime()` method, the `%p` directive only affects the output hour field if the `%I` directive is used to parse the hour.\n",
    "4. Unlike the [`time`](https://docs.python.org/3/library/time.html#module-time) module, the [`datetime`](https://docs.python.org/3/library/datetime.html#module-datetime) module does not support leap seconds.\n",
    "5. When used with the `strptime()` method, the `%f` directive accepts from one to six digits and zero pads on the right. `%f` is an extension to the set of format characters in the C standard (but implemented separately in datetime objects, and therefore always available).\n",
    "6. For a naive object, the `%z` and `%Z` format codes are replaced by empty strings.<br/>\n",
    "For an aware object:\n",
    "\n",
    "Directive | Action\n",
    "--- | ---\n",
    "`%z` | `utcoffset()` is transformed into a string of the form `±HHMM[SS[.ffffff]]`, where `HH` is a 2-digit string giving the number of UTC offset hours, `MM` is a 2-digit string giving the number of UTC offset minutes, `SS` is a 2-digit string giving the number of UTC offset seconds and `ffffff` is a 6-digit string giving the number of UTC offset microseconds. The `ffffff` part is omitted when the offset is a whole number of seconds and both the `ffffff` and the `SS` part is omitted when the offset is a whole number of minutes. For example, if `utcoffset()` returns `timedelta(hours=-3, minutes=-30)`, `%z` is replaced with the string `'-0330'`.\n",
    "`%Z` | In strftime(), `%Z` is replaced by an empty string if `tzname()` returns `None`; otherwise `%Z` is replaced by the returned value, which must be a string.<br/>`strptime()` only accepts certain values for `%Z`:<br/>1. any value in `time.tzname` for your machine’s locale<br/>2. the hard-coded values `UTC` and `GMT`<br/>So someone living in Japan may have `JST`, `UTC`, and `GMT` as valid values, but probably not `EST`. It will raise [`ValueError`](https://docs.python.org/3/library/exceptions.html#ValueError) for invalid values.\n",
    "\n",
    "7. When used with the `strptime()` method, `%U` and `%W` are only used in calculations when the day of the week and the calendar year (`%Y`) are specified.\n",
    "8. Similar to `%U` and `%W`, `%V` is only used in calculations when the day of the week and the ISO year (`%G`) are specified in a `strptime()` format string. Also note that `%G` and `%Y` are not interchangeable.\n",
    "9. When used with the `strptime()` method, the leading zero is optional for formats `%d`, `%m`, `%H`, `%I`, `%M`, `%S`, `%J`, `%U`, `%W`, and `%V`. Format `%y` does require a leading zero."
   ]
  }
 ],
 "metadata": {
  "kernelspec": {
   "display_name": "Python 3.10.6 ('.venv': venv)",
   "language": "python",
   "name": "python3"
  },
  "language_info": {
   "name": "python",
   "version": "3.10.6"
  },
  "orig_nbformat": 4,
  "vscode": {
   "interpreter": {
    "hash": "72514b75157ecb97d824086b3515161c701b7836d1d87e524784df4edf83d3f3"
   }
  }
 },
 "nbformat": 4,
 "nbformat_minor": 2
}
