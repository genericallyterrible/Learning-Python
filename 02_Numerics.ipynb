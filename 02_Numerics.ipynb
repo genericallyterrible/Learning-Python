{
 "cells": [
  {
   "cell_type": "markdown",
   "metadata": {},
   "source": [
    "# Numerics"
   ]
  },
  {
   "cell_type": "markdown",
   "metadata": {},
   "source": [
    "## Standard Types\n",
    "\n",
    "Standard numeric types are either integer, float, or complex type.  \n",
    "When integers and floating point numbers interact arithmatically, the integers are automatically converted to floating point."
   ]
  },
  {
   "cell_type": "markdown",
   "metadata": {},
   "source": [
    "### Integers"
   ]
  },
  {
   "cell_type": "markdown",
   "metadata": {},
   "source": [
    "* There is no limit for the length of integer literals apart from what can be stored in available memory.\n",
    "* Underscores are ignored for determining the numeric value of the literal.\n",
    "  * They can be used to group digits for enhanced readability.\n",
    "  * One underscore can occur between digits, and after base specifiers like `0x`.\n",
    "* Note that leading zeros in a non-zero decimal number are not allowed."
   ]
  },
  {
   "cell_type": "code",
   "execution_count": 1,
   "metadata": {},
   "outputs": [
    {
     "name": "stdout",
     "output_type": "stream",
     "text": [
      "myint = 3735928559 (0xdead_beef)\n",
      "myint = 16 (0x10)\n",
      "myint = 10\n",
      "myint = 8 (0o10)\n",
      "myint = 2 (0b10)\n"
     ]
    }
   ],
   "source": [
    "myint = 0x_0000_DEAD_BEEF\n",
    "print(f\"{myint = } ({myint:#_x})\")\n",
    "\n",
    "myint = 0x10  # Hexadecimal\n",
    "print(f\"{myint = } ({myint:#_x})\")\n",
    "\n",
    "myint = 10  # Decimal\n",
    "print(f\"{myint = }\")\n",
    "\n",
    "myint = 0o10  # Octal\n",
    "print(f\"{myint = } ({myint:#_o})\")\n",
    "\n",
    "myint = 0b10  # Binary\n",
    "print(f\"{myint = } ({myint:#_b})\")\n"
   ]
  },
  {
   "cell_type": "markdown",
   "metadata": {},
   "source": [
    "### Floats"
   ]
  },
  {
   "cell_type": "markdown",
   "metadata": {},
   "source": [
    "* May be defined with a decimal point or through casting.\n",
    "* Integer and exponent parts are always interpreted using radix 10.\n",
    "  * For example, 077e010 is legal, and denotes the same number as 77e10.\n",
    "* The allowed range of floating point literals is implementation-dependent.\n",
    "* As in integer literals, underscores are supported for digit grouping."
   ]
  },
  {
   "cell_type": "code",
   "execution_count": 2,
   "metadata": {},
   "outputs": [
    {
     "name": "stdout",
     "output_type": "stream",
     "text": [
      "3.14\n",
      "10.0\n",
      "0.001\n",
      "1e+100\n",
      "3.14e-10\n",
      "3.14e-10\n",
      "0.0\n",
      "0.0\n",
      "3.141593\n",
      "7.0\n",
      "15.7\n",
      "<class 'float'>\n",
      "-inf\n",
      "<class 'float'>\n"
     ]
    }
   ],
   "source": [
    "myfloat = 3.14\n",
    "print(myfloat)\n",
    "myfloat = 10.0\n",
    "print(myfloat)\n",
    "myfloat = 0.001\n",
    "print(myfloat)\n",
    "myfloat = 1e100\n",
    "print(myfloat)\n",
    "myfloat = 3.14 * 10**-10\n",
    "print(myfloat)\n",
    "myfloat = 3.14e-10\n",
    "print(myfloat)\n",
    "myfloat = 0.0\n",
    "print(myfloat)\n",
    "myfloat = 0e0\n",
    "print(myfloat)\n",
    "myfloat = 3.14_15_93\n",
    "print(myfloat)\n",
    "myfloat = float(7)\n",
    "print(myfloat)\n",
    "\n",
    "myfloat = float(\"15.7\")\n",
    "print(myfloat)\n",
    "print(type(myfloat))\n",
    "\n",
    "myfloat = float(\"-inf\")\n",
    "print(myfloat)\n",
    "print(type(myfloat))\n"
   ]
  },
  {
   "cell_type": "markdown",
   "metadata": {},
   "source": [
    "### Complex"
   ]
  },
  {
   "cell_type": "markdown",
   "metadata": {},
   "source": [
    "* Complex numbers have a real and imaginary part, which are each a floating point number.\n",
    "* To extract these parts from a complex number `z`, use `z.real` and `z.imag`.\n",
    "* An easy way to create a complex number is to add a floating point literal and an imaginary literal.\n",
    "  * For example: `(3.0+4.0j)` or more simply `(3+4j)`."
   ]
  },
  {
   "cell_type": "code",
   "execution_count": 3,
   "metadata": {},
   "outputs": [
    {
     "name": "stdout",
     "output_type": "stream",
     "text": [
      "c = (1+5j)\n",
      "c.real = 1.0, c.imag = 5.0\n",
      "type(c) = <class 'complex'>\n",
      "type(2j.imag) = <class 'float'>\n"
     ]
    }
   ],
   "source": [
    "c = 1 + 5j\n",
    "print(f\"{c = }\")\n",
    "print(f\"{c.real = }, {c.imag = }\")\n",
    "print(f\"{type(c) = }\")\n",
    "print(f\"{type(2j.imag) = }\")\n"
   ]
  },
  {
   "cell_type": "markdown",
   "metadata": {},
   "source": [
    "## Extra numeric types from the standard library"
   ]
  },
  {
   "cell_type": "markdown",
   "metadata": {},
   "source": [
    "### Decimal (`decimal.Decimal`)\n",
    "\n",
    "Provides support for fast correctly rounded decimal floating point arithmetic."
   ]
  },
  {
   "cell_type": "markdown",
   "metadata": {},
   "source": [
    "A `Decimal` number is **immutable**. It has a sign, coefficient digits, and an exponent. To preserve significance, the coefficient digits do not truncate trailing zeros. Decimals also include special values such as `Infinity`, `-Infinity`, and `NaN`. The standard also differentiates `-0` from `+0`.\n",
    "\n",
    "`Decimal` and `float` numbers cannot interact via mathematical operators (`+`, `-`, `*`, `/`, `//`, `%`, `**`, etc.)  \n",
    "`Decimal` and `float` numbers can be compared (`<`, `<=`, `==`, `!=`, `>=`, `>`, etc.)."
   ]
  },
  {
   "cell_type": "markdown",
   "metadata": {},
   "source": [
    "#### Advantages over `float`"
   ]
  },
  {
   "cell_type": "markdown",
   "metadata": {},
   "source": [
    "* Decimal “is based on a floating-point model which was designed with people in mind, and necessarily has a paramount guiding principle – computers must provide an arithmetic that works in the same way as the arithmetic that people learn at school.” – excerpt from the decimal arithmetic specification.\n",
    "\n",
    "* Decimal numbers can be represented exactly. In contrast, numbers like 1.1 and 2.2 do not have exact representations in binary floating point. End users typically would not expect `1.1 + 2.2` to display as `3.3000000000000003` as it does with binary floating point.\n",
    "\n",
    "* The exactness carries over into arithmetic. In decimal floating point, `0.1 + 0.1 + 0.1 - 0.3` is exactly equal to zero. In binary floating point, the result is `5.5511151231257827e-017`. While near to zero, the differences prevent reliable equality testing and differences can accumulate. For this reason, decimal is preferred in accounting applications which have strict equality invariants.\n",
    "\n",
    "* The decimal module incorporates a notion of significant places so that `1.30 + 1.20` is `2.50`. The trailing zero is kept to indicate significance. This is the customary presentation for monetary applications. For multiplication, the “schoolbook” approach uses all the figures in the multiplicands. For instance, `1.3 * 1.2` gives `1.56` while `1.30 * 1.20` gives `1.5600`.\n",
    "\n",
    "* Unlike hardware based binary floating point, the decimal module has a user alterable precision (defaulting to 28 places) which can be as large as needed for a given problem:"
   ]
  },
  {
   "cell_type": "code",
   "execution_count": 4,
   "metadata": {},
   "outputs": [
    {
     "name": "stdout",
     "output_type": "stream",
     "text": [
      "0.142857\n",
      "0.1428571428571428571428571429\n"
     ]
    },
    {
     "data": {
      "text/plain": [
       "Decimal('12.54')"
      ]
     },
     "execution_count": 4,
     "metadata": {},
     "output_type": "execute_result"
    }
   ],
   "source": [
    "from decimal import *\n",
    "\n",
    "getcontext().prec = 6\n",
    "print(Decimal(1) / Decimal(7))\n",
    "\n",
    "getcontext().prec = 28\n",
    "print(Decimal(1) / Decimal(7))\n",
    "\n",
    "Decimal(\"12.545\").quantize(Decimal(\"0.01\"))\n"
   ]
  },
  {
   "cell_type": "markdown",
   "metadata": {},
   "source": [
    "* Both binary and decimal floating point are implemented in terms of published standards. While the built-in float type exposes only a modest portion of its capabilities, the decimal module exposes all required parts of the standard. When needed, the programmer has full control over rounding and signal handling. This includes an option to enforce exact arithmetic by using exceptions to block any inexact operations.\n",
    "\n",
    "* The decimal module was designed to support “without prejudice, both exact unrounded decimal arithmetic (sometimes called fixed-point arithmetic) and rounded floating-point arithmetic.” – excerpt from the decimal arithmetic specification."
   ]
  },
  {
   "cell_type": "markdown",
   "metadata": {},
   "source": [
    "#### Contexts"
   ]
  },
  {
   "cell_type": "markdown",
   "metadata": {},
   "source": [
    "The context for arithmetic is an environment specifying precision, rounding rules, limits on exponents, flags indicating the results of operations, and trap enablers which determine whether signals are treated as exceptions. Rounding options include `ROUND_CEILING`, `ROUND_DOWN`, `ROUND_FLOOR`, `ROUND_HALF_DOWN`, `ROUND_HALF_EVEN`, `ROUND_HALF_UP`, `ROUND_UP`, and `ROUND_05UP`."
   ]
  },
  {
   "cell_type": "code",
   "execution_count": 5,
   "metadata": {},
   "outputs": [
    {
     "name": "stdout",
     "output_type": "stream",
     "text": [
      "12.123456789123456789123456789123456789123456789123456789\n",
      "12.1234567891234567891234567891234567891235\n",
      "12.12345678912345678912345679\n"
     ]
    }
   ],
   "source": [
    "from decimal import localcontext\n",
    "\n",
    "with localcontext() as ctx:  # Create local context\n",
    "    ctx.prec = 42\n",
    "    # Decimal declaration ignores context precision\n",
    "    s = Decimal(\"12.123456789123456789123456789123456789123456789123456789\")\n",
    "    print(s)\n",
    "    s = +s  # Unary plus applies the precision\n",
    "    print(s)\n",
    "s = +s  # Unary plus applies the precision\n",
    "print(s)\n"
   ]
  },
  {
   "cell_type": "markdown",
   "metadata": {},
   "source": [
    "#### Signals"
   ]
  },
  {
   "cell_type": "markdown",
   "metadata": {},
   "source": [
    "Signals are groups of exceptional conditions arising during the course of computation. Depending on the needs of the application, signals may be ignored, considered as informational, or treated as exceptions. The signals in the decimal module are: `Clamped`, `InvalidOperation`, `DivisionByZero`, `Inexact`, `Rounded`, `Subnormal`, `Overflow`, `Underflow` and `FloatOperation`.\n",
    "\n",
    "For each signal there is a flag and a trap enabler. When a signal is encountered, its flag is set to one, then, if the trap enabler is set to one, an exception is raised. Flags are sticky, so the user needs to reset them before monitoring a calculation."
   ]
  },
  {
   "cell_type": "code",
   "execution_count": 6,
   "metadata": {},
   "outputs": [
    {
     "name": "stdout",
     "output_type": "stream",
     "text": [
      "Error: mixing decimal and float in constructor\n"
     ]
    }
   ],
   "source": [
    "from decimal import localcontext\n",
    "\n",
    "with localcontext() as ctx:\n",
    "    ctx.traps[FloatOperation] = True  # Enable signal trap\n",
    "    try:\n",
    "        Decimal(3.14)\n",
    "    except FloatOperation:\n",
    "        print(\"Error: mixing decimal and float in constructor\")\n"
   ]
  },
  {
   "cell_type": "code",
   "execution_count": 7,
   "metadata": {},
   "outputs": [
    {
     "name": "stdout",
     "output_type": "stream",
     "text": [
      "Error: mixing decimal and float for ordering comparison\n"
     ]
    }
   ],
   "source": [
    "from decimal import localcontext\n",
    "\n",
    "with localcontext() as ctx:\n",
    "    ctx.traps[FloatOperation] = True  # Enable signal trap\n",
    "    try:\n",
    "        Decimal(\"3.5\") < 3.7\n",
    "    except FloatOperation:\n",
    "        print(\"Error: mixing decimal and float for ordering comparison\")\n"
   ]
  },
  {
   "cell_type": "code",
   "execution_count": 8,
   "metadata": {},
   "outputs": [
    {
     "name": "stdout",
     "output_type": "stream",
     "text": [
      "True\n"
     ]
    }
   ],
   "source": [
    "from decimal import localcontext\n",
    "\n",
    "with localcontext() as ctx:\n",
    "    ctx.traps[FloatOperation] = True  # Enable signal trap\n",
    "    print(Decimal(\"3.5\") == 3.5)  # No error\n"
   ]
  },
  {
   "cell_type": "markdown",
   "metadata": {},
   "source": [
    "### Fractions (`fractions.Fraction`)\n",
    "\n",
    "Provides support for rational number arithmetic."
   ]
  },
  {
   "cell_type": "markdown",
   "metadata": {},
   "source": [
    "* A Fraction instance can be constructed from a pair of `integer`s, from another `fraction`, from a `float`, from a `decimal`, or from a `string`.\n",
    "* `Fraction` instances are hashable, and should be treated as immutable.\n",
    "* `limit_denominator()` is useful for finding rational approximations to a given floating-point number or for recovering a rational number that's represented as a float."
   ]
  },
  {
   "cell_type": "code",
   "execution_count": 9,
   "metadata": {},
   "outputs": [
    {
     "name": "stdout",
     "output_type": "stream",
     "text": [
      "Fraction(1.1) = 2476979795053773/2251799813685248\n",
      "Limit denominator = 11/10\n",
      "String declaration = 11/10\n",
      "Integer numerator denominator = -8/5\n"
     ]
    }
   ],
   "source": [
    "from fractions import Fraction\n",
    "\n",
    "frac = Fraction(1.1)  # Be wary of normal float inaccuracies\n",
    "print(f\"Fraction(1.1) = {frac}\")\n",
    "\n",
    "frac = Fraction(1.1).limit_denominator()\n",
    "print(f\"Limit denominator = {frac}\")\n",
    "\n",
    "frac = Fraction(\"1.1\")  # Using a string avoids float errors\n",
    "print(f\"String declaration = {frac}\")\n",
    "\n",
    "frac = Fraction(16, -10)\n",
    "print(f\"Integer numerator denominator = {frac}\")\n"
   ]
  },
  {
   "cell_type": "markdown",
   "metadata": {},
   "source": [
    "## Operators"
   ]
  },
  {
   "cell_type": "markdown",
   "metadata": {},
   "source": [
    "### Standard Operators"
   ]
  },
  {
   "cell_type": "markdown",
   "metadata": {},
   "source": [
    "Operation | Result | Notes\n",
    "--- | --- | :---:\n",
    "`x + y` | sum of `x` and `y` |\n",
    "`x - y` | difference of `x` and `y` |\n",
    "`x * y` | product of `x` and `y` |\n",
    "`x / y` | quotient of `x` and `y` | 1\n",
    "`x // y` | floored quotient of `x` and `y` | 2\n",
    "`x % y` | reaminder of `x / y` | 3, 4\n",
    "`-x` | `x` negated |\n",
    "`+x` | `x` unchanged | 5\n",
    "`abs(x)` | absolute value or magnitude of `x` | 6\n",
    "`c.conjugate()` | conjugate of the complex number `c` |\n",
    "`divmod(x, y)` | the pair `(x // y, x % y)` | 4\n",
    "`pow(x, y)` | `x` to the power `y` | 7\n",
    "`x ** y` | `x` to the power `y` | 7\n",
    "\n",
    "1. `/` has different behaviors based on the arguments\n",
    "    * If all arguments are `Complex` numbers, `/` applies complex division.\n",
    "    * If all arguments are `Real` numbers, `/` converts any `integer` arguments to `float` (or `Decimal` if the other argument is `Decimal`) and then applies `float` (or `Decimal`) division.\n",
    "2. `//` always returns a whole integer (though may not be of type `integer`).\n",
    "    * `Decimal` rounds towards `0`.\n",
    "    * All other types round towards minus infinity.\n",
    "3. When applied to `Decimal` objects, the sign of the result is the sign of the *dividend* rather than the sign of the *divisor*.\n",
    "4. Modulo is not a valid function for `Complex` numbers. Consider using `abs()` if appropriate.\n",
    "5. Applies the current `Context` to `Decimal` numbers which may cause rounding or truncation.\n",
    "6. Absolute value is the measure a number's distance from `0`.\n",
    "    * For `Complex` numbers this means along both the real and imaginary axes.\n",
    "    * Similar to a point's distance from the origin.\n",
    "7. Python defines `pow(0, 0)` and `0 ** 0` to be `1`, as is common for programming languages.\n"
   ]
  },
  {
   "cell_type": "code",
   "execution_count": 10,
   "metadata": {},
   "outputs": [
    {
     "name": "stdout",
     "output_type": "stream",
     "text": [
      "Division\n",
      "(1 + 2j) / (3 + 4j)     = (0.44+0.08j) (<class 'complex'>)\n",
      "(-7) / Decimal(4)       =        -1.75 (<class 'decimal.Decimal'>)\n",
      "-7 / float(4)           =        -1.75 (<class 'float'>)\n",
      "-7 / 4                  =        -1.75 (<class 'float'>)\n",
      "\n",
      "Floor Division\n",
      "(-7) // Decimal(4)      =           -1 (<class 'decimal.Decimal'>)\n",
      "-7 // float(4)          =         -2.0 (<class 'float'>)\n",
      "-7 // 4                 =           -2 (<class 'int'>)\n",
      "\n",
      "Remainder\n",
      "(-7) % Decimal(4)       =           -3 (<class 'decimal.Decimal'>)\n",
      "-7 % float(4)           =          1.0 (<class 'float'>)\n",
      "-7 % 4                  =            1 (<class 'int'>)\n"
     ]
    }
   ],
   "source": [
    "pre_fmt = \"23\"\n",
    "num_fmt = \"12\"\n",
    "dividend = -7\n",
    "divisor = 4\n",
    "\n",
    "\n",
    "def print_msg(prefix: str, val: any, fmt1=pre_fmt, fmt2=num_fmt) -> None:\n",
    "    print(f\"{prefix:{fmt1}} = {val:{fmt2}} ({type(val)})\")\n",
    "\n",
    "\n",
    "print(\"Division\")\n",
    "\n",
    "mynum = (1 + 2j) / (3 + 4j)\n",
    "print_msg(\"(1 + 2j) / (3 + 4j)\", mynum)\n",
    "\n",
    "mynum = dividend / Decimal(divisor)  # Decimal division\n",
    "print_msg(f\"({dividend}) / Decimal({divisor})\", mynum)\n",
    "\n",
    "mynum = dividend / float(divisor)  # Float division\n",
    "print_msg(f\"{dividend} / float({divisor})\", mynum)\n",
    "\n",
    "mynum = dividend / divisor  # Integer division\n",
    "print_msg(f\"{dividend} / {divisor}\", mynum)\n",
    "\n",
    "\n",
    "print(\"\\nFloor Division\")\n",
    "\n",
    "mynum = dividend // Decimal(divisor)  # Decimal floor division\n",
    "print_msg(f\"({dividend}) // Decimal({divisor})\", mynum)\n",
    "\n",
    "mynum = dividend // float(divisor)  # Float floor division\n",
    "print_msg(f\"{dividend} // float({divisor})\", mynum)\n",
    "\n",
    "mynum = dividend // divisor  # Integer floor division\n",
    "print_msg(f\"{dividend} // {divisor}\", mynum)\n",
    "\n",
    "\n",
    "print(\"\\nRemainder\")\n",
    "\n",
    "mynum = dividend % Decimal(divisor)  # Decimal remainder\n",
    "print_msg(f\"({dividend}) % Decimal({divisor})\", mynum)\n",
    "\n",
    "mynum = dividend % float(divisor)  # Float remainder\n",
    "print_msg(f\"{dividend} % float({divisor})\", mynum)\n",
    "\n",
    "mynum = dividend % divisor  # Integer remainder\n",
    "print_msg(f\"{dividend} % {divisor}\", mynum)\n"
   ]
  },
  {
   "cell_type": "markdown",
   "metadata": {},
   "source": [
    "### Bitwise Operations on Integer Types\n",
    "\n",
    "Bitwise operations only make sense for integers. The result of bitwise operations is calculated as though carried out in two’s complement with an infinite number of sign bits.\n",
    "\n",
    "The priorities of the binary bitwise operations are all lower than the numeric operations and higher than the comparisons; the unary operation ~ has the same priority as the other unary numeric operations (+ and -)."
   ]
  },
  {
   "cell_type": "markdown",
   "metadata": {},
   "source": [
    "This table lists the bitwise operations sorted in ascending priority:\n",
    "\n",
    "Operation | Result | Notes\n",
    "--- | --- | :---:\n",
    "`x \\| y` | bitwise ***or*** of `x` and `y` | 4\n",
    "`x ^ y` | bitwise ***exclusive or*** of `x` and `y` | 4\n",
    "`x & y` | bitwise ***and*** of `x` and `y` | 4\n",
    "`x << n` | `x` shifted left by `n` bits | 1, 2\n",
    "`x >> n` | `x` shifted right by `n` bits | 1, 3\n",
    "`~x` | the bits of `x` inverted |\n",
    "\n",
    "1. Negative shift counts are illegal and cause a `ValueError` to be raised.\n",
    "2. A left shift by `n` bits is equivalent to multiplication by `(2 ** n)`.\n",
    "3. A right shift by `n` bits is equivalent to floor division by `(2 ** n)`.\n",
    "4. Performing these calculations with at least one extra sign extension bit in a finite two’s complement representation (a working bit-width of `1 + max(x.bit_length(), y.bit_length())` or more) is sufficient to get the same result as if there were an infinite number of sign bits.\n"
   ]
  }
 ],
 "metadata": {
  "kernelspec": {
   "display_name": "Python 3.10.6 ('.venv': venv)",
   "language": "python",
   "name": "python3"
  },
  "language_info": {
   "codemirror_mode": {
    "name": "ipython",
    "version": 3
   },
   "file_extension": ".py",
   "mimetype": "text/x-python",
   "name": "python",
   "nbconvert_exporter": "python",
   "pygments_lexer": "ipython3",
   "version": "3.10.6"
  },
  "orig_nbformat": 4,
  "vscode": {
   "interpreter": {
    "hash": "72514b75157ecb97d824086b3515161c701b7836d1d87e524784df4edf83d3f3"
   }
  }
 },
 "nbformat": 4,
 "nbformat_minor": 2
}
