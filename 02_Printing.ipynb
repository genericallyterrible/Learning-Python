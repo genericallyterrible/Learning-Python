{
 "cells": [
  {
   "cell_type": "markdown",
   "metadata": {},
   "source": [
    "# F-Strings"
   ]
  },
  {
   "cell_type": "markdown",
   "metadata": {},
   "source": [
    "A formatted string literal or f-string is a string literal that is prefixed with `'f'` or `'F'`. These strings may contain replacement fields, which are expressions delimited by curly braces `{}`. While other string literals always have a constant value, formatted strings are really expressions evaluated at run time.\n",
    "\n",
    "Escape sequences are decoded like in ordinary string literals (except when a literal is also marked as a raw string).\n",
    "\n",
    "The parts of the string outside curly braces are treated literally, except that any doubled curly braces `'{{'` or `'}}'` are replaced with the corresponding single curly brace.\n",
    "\n",
    "To display both the expression text and its value after evaluation, (useful in debugging), an equal sign `'='` may be added after the expression. By default, the `'='` causes the `repr()` of the expression to be provided, unless there is a format specified. When a format is specified it defaults to the `str()` of the expression unless a conversion `'!r'` is declared.\n",
    "\n",
    "A conversion field, introduced by an exclamation point `'!'` may follow. If a conversion is specified, the result of evaluating the expression is converted before formatting. Conversion `'!s'` calls `str()` on the result, `'!r'` calls `repr()`, and `'!a'` calls `ascii()`.\n",
    "\n",
    "A format specifier may also be appended, introduced by a colon `':'`. This is described in the next section."
   ]
  },
  {
   "cell_type": "code",
   "execution_count": 3,
   "metadata": {},
   "outputs": [
    {
     "name": "stdout",
     "output_type": "stream",
     "text": [
      "He said his name is 'Fred'.\n",
      "result:      12.35\n",
      "August 26, 2021\n",
      "today=August 26, 2021\n",
      "\" foo = 'bar'\"\n",
      "'line = \"The mill\\'s closed\"'\n",
      "\"line = The mill's closed   \"\n",
      "'line = \"The mill\\'s closed\" '\n",
      "Centered:       The mill's closed       \n"
     ]
    }
   ],
   "source": [
    "from decimal import *\n",
    "from datetime import *\n",
    "\n",
    "name = \"Fred\"\n",
    "print(f\"He said his name is {name!r}.\")  # !r is equivalent to repr()\n",
    "\n",
    "width = 10\n",
    "precision = 4\n",
    "value = Decimal(\"12.34567\")\n",
    "print(f\"result: {value:{width}.{precision}}\")  # nested fields\n",
    "\n",
    "today = datetime(year=2021, month=8, day=26)\n",
    "print(f\"{today:%B %d, %Y}\")  # using date format specifier\n",
    "print(f\"{today=:%B %d, %Y}\")  # using date format specifier and debugging\n",
    "\n",
    "foo = \"bar\"\n",
    "print(repr(f\"{ foo = }\"))  # preserves whitespace\n",
    "\n",
    "line = \"The mill's closed\"\n",
    "print(repr(f\"{line = }\"))\n",
    "\n",
    "print(repr(f\"{line = :20}\"))\n",
    "\n",
    "print(repr(f\"{line = !r:20}\"))\n",
    "\n",
    "print(f\"Centered: {line:^30}\")\n"
   ]
  },
  {
   "cell_type": "markdown",
   "metadata": {},
   "source": [
    "## [Format Specification Mini-Language](https://docs.python.org/3/library/string.html#format-specification-mini-language)\n",
    "\n",
    "“Format specifications” are used within replacement fields contained within a format string to define how individual values are presented.\n",
    "\n",
    "The general form of a standard format specifier is:\n",
    "```\n",
    "format_spec     ::=  [[fill]align][sign][#][0][width][grouping_option][.precision][type]\n",
    "fill            ::=  <any character>\n",
    "align           ::=  \"<\" | \">\" | \"=\" | \"^\"\n",
    "sign            ::=  \"+\" | \"-\" | \" \"\n",
    "width           ::=  digit+\n",
    "grouping_option ::=  \"_\" | \",\"\n",
    "precision       ::=  digit+\n",
    "type            ::=  \"b\" | \"c\" | \"d\" | \"e\" | \"E\" | \"f\" | \"F\" | \"g\" | \"G\" | \"n\" | \"o\" | \"s\" | \"x\" | \"X\" | \"%\"\n",
    "```\n"
   ]
  },
  {
   "cell_type": "markdown",
   "metadata": {},
   "source": [
    "### Fill\n",
    "\n",
    "If a valid align value is specified, it can be preceded by a fill character that can be any character and defaults to a space if omitted. It is not possible to use a literal curly brace (`\"{\"` or `\"}\"`) as the fill character in a formatted string literal. This limitation doesn’t affect the `format()` function."
   ]
  },
  {
   "cell_type": "markdown",
   "metadata": {},
   "source": [
    "### Align\n",
    "\n",
    "Note that unless a minimum field width is defined, the field width will always be the same size as the data to fill it, so that the alignment option has no meaning in this case.\n",
    "\n",
    "Option | Meaning\n",
    "--- | ---\n",
    "`'<'`| Forces the field to be left-aligned within the available space (this is the default for most objects).\n",
    "`'>'` | Forces the field to be right-aligned within the available space (this is the default for numbers).\n",
    "`'='` | Forces the padding to be placed after the sign (if any) but before the digits. This is used for printing fields in the form `'+000000120'`. This alignment option is only valid for numeric types. It becomes the default for numbers when `'0'` immediately precedes the field width.\n",
    "`'^'` | Forces the field to be centered within the available space."
   ]
  },
  {
   "cell_type": "markdown",
   "metadata": {},
   "source": [
    "### Sign\n",
    "\n",
    "The sign option is only valid for number types, and can be one of the following:\n",
    "\n",
    "Option | Meaning\n",
    "--- | ---\n",
    "`'+'` | Indicates that a sign should be used for both positive as well as negative numbers.\n",
    "`'-'` | Indicates that a sign should be used only for negative numbers (this is the default behavior).\n",
    "space | Indicates that a leading space should be used on positive numbers, and a minus sign on negative numbers."
   ]
  },
  {
   "cell_type": "markdown",
   "metadata": {},
   "source": [
    "### Alternate Form `'#'`\n",
    "\n",
    "The alternate form is defined differently for different types. This option is only valid for `integer`, `float`, and `complex` types.\n",
    "\n",
    "Integers:\n",
    "Presentation Type | Base | Output Prefix\n",
    "--- | --- | ---\n",
    "`'b'` | binary | `'0b'`\n",
    "`'o'` | octal | `'0o'`\n",
    "`'x'` | hex | `'0x'`\n",
    "`'X'` | hex | `'0X'`\n",
    "\n",
    "For `float` and `complex` types the alternate form causes the result of the conversion to always contain a decimal-point character, even if no digits follow it. Normally, a decimal-point character appears in the result of these conversions only if a digit follows it.\n",
    "\n",
    "For `'g'` and `'G'` conversions, trailing zeros are not removed from the result."
   ]
  },
  {
   "cell_type": "markdown",
   "metadata": {},
   "source": [
    "### Width Prefix `'0'`\n",
    "\n",
    "Numeric Types:\n",
    "When no explicit alignment is given, preceding the width field by a zero (`'0'`) character enables sign-aware zero-padding. This is equivalent to a fill character of `'0'` with an alignment type of `'='`.\n",
    "\n",
    "Non-Numeric Types:\n",
    "When no explicit alignment is given, preceding the width field by a zero (`'0'`) character zero-pads the object using its default alignment."
   ]
  },
  {
   "cell_type": "markdown",
   "metadata": {},
   "source": [
    "### Width\n",
    "\n",
    "A decimal integer defining the minimum total field width, including any prefixes, separators, and other formatting characters. If not specified, then the field width will be determined by the content."
   ]
  },
  {
   "cell_type": "markdown",
   "metadata": {},
   "source": [
    "### Grouping Option\n",
    "\n",
    "For a locale aware separator, use the `'n'` integer presentation type instead.\n",
    "\n",
    "Option | Meaning\n",
    "--- | ---\n",
    "`','` | Signals the use of a comma for a thousands separator for floating point presentation types and for integer presentation type `'d'`. For other presentation types, specifying this option is an error.\n",
    "`'_'` | Signals the use of an underscore for a thousands separator for floating point presentation types and for integer presentation type `'d'`. For integer presentation types `'b'`, `'o'`, `'x'`, and `'X'`, underscores will be inserted every 4 digits. For other presentation types, specifying this option is an error."
   ]
  },
  {
   "cell_type": "code",
   "execution_count": null,
   "metadata": {},
   "outputs": [],
   "source": [
    "myfloat = 12345.6789\n",
    "myint = 4096\n",
    "print(f\"{myfloat}\")\n",
    "print(f\"{myfloat:,}\")\n",
    "print(f\"{myfloat:_}\")\n",
    "print(f\"{myint}\")\n",
    "print(f\"{myint:,}\")\n",
    "print(f\"{myint:_}\")\n",
    "print(f\"{myint:#_x}\")\n",
    "print(f\"{myint:#_o}\")\n",
    "print(f\"{myint:#_b}\")\n"
   ]
  },
  {
   "cell_type": "markdown",
   "metadata": {},
   "source": [
    "### Precision '`.[0-9]+`'\n",
    "\n",
    "A decimal integer indicating how many digits should be displayed after the decimal point for presentation types `'f'` and `'F'`, or before and after the decimal point for presentation types `'g'` or `'G'`. For string presentation types *Precision* indicates the maximum field size - in other words, how many characters will be used from the field content. *Precision* is not allowed for integer presentation types."
   ]
  },
  {
   "cell_type": "code",
   "execution_count": 2,
   "metadata": {},
   "outputs": [
    {
     "name": "stdout",
     "output_type": "stream",
     "text": [
      "12345.6789\n",
      "12345.679\n",
      "12345.68\n",
      "Hello\n",
      "12345.68\n"
     ]
    }
   ],
   "source": [
    "from decimal import *\n",
    "myfloat = 12345.6789\n",
    "mydecimal = Decimal('12345.6789')\n",
    "print(f\"{myfloat}\")\n",
    "print(f\"{myfloat:.3f}\")\n",
    "print(f\"{myfloat:.2f}\")\n",
    "print(f\"{'Hello, World!':.5}\")\n",
    "print(f\"{mydecimal:.2f}\")"
   ]
  },
  {
   "cell_type": "markdown",
   "metadata": {},
   "source": [
    "### Type\n",
    "\n",
    "Determines how the data should be presented."
   ]
  },
  {
   "cell_type": "markdown",
   "metadata": {},
   "source": [
    "#### `string`\n",
    "\n",
    "Type | Meaning\n",
    "--- | ---\n",
    "`'s'` | String format. This is the default type for strings and may be omitted.\n",
    "None | The same as `'s'`\n"
   ]
  },
  {
   "cell_type": "markdown",
   "metadata": {},
   "source": [
    "#### `integer`\n",
    "\n",
    "Type | Meaning\n",
    "--- | ---\n",
    "`'b'` | Binary format. Outputs the number in base 2.\n",
    "`'c'` | Character. Converts the integer to the corresponding unicode character before printing.\n",
    "`'d'` | Decimal Integer. Outputs the number in base 10.\n",
    "`'o'` | Octal format. Outputs the number in base 8.\n",
    "`'x'` | Hex format. Outputs the number in base 16, using lower-case letters for the digits above 9.\n",
    "`'X'` | Hex format. Outputs the number in base 16, using upper-case letters for the digits above 9. In case `'#'` is specified, the prefix `'0x'` will be upper-cased to `'0X'` as well.\n",
    "`'n'` | Number. This is the same as `'d'`, except that it uses the current locale setting to insert the appropriate number separator characters.\n",
    "None | The same as `'d'`.\n",
    "\n",
    "In addition to the above presentation types, integers can be formatted with the floating point presentation types listed below (except `'n'` and `None`). When doing so, `float()` is used to convert the integer to a floating point number before formatting."
   ]
  },
  {
   "cell_type": "markdown",
   "metadata": {},
   "source": [
    "#### `float` and `Decimal`\n",
    "\n",
    "Type | Meaning\n",
    "--- | ---\n",
    "`'e'` | Scientific notation. For a given precision `p`, formats the number in scientific notation with the letter 'e' separating the coefficient from the exponent. The coefficient has one digit before and `p` digits after the decimal point, for a total of `p + 1` significant digits. With no precision given, uses a precision of `6` digits after the decimal point for `float`, and shows all coefficient digits for `Decimal`. If no digits follow the decimal point, the decimal point is also removed unless the `#` option is used.\n",
    "`'E'` | Scientific notation. Same as `'e'` except it uses an upper case 'E' as the separator character.\n",
    "`'f'` | Fixed-point notation. For a given precision `p`, formats the number as a decimal number with exactly `p` digits following the decimal point. With no precision given, uses a precision of `6` digits after the decimal point for `float`, and uses a precision large enough to show all coefficient digits for `Decimal`. If no digits follow the decimal point, the decimal point is also removed unless the `#` option is used.\n",
    "`'F'` | Fixed-point notation. Same as `'f'`, but converts `nan` to `NAN` and `inf` to `INF`.\n",
    "`'g'` | General format. For a given precision `p >= 1`, this rounds the number to `p` significant digits and then formats the result in either fixed-point format or in scientific notation, depending on its magnitude. A precision of `0` is treated as equivalent to a precision of `1`.<br/><br/>The precise rules are as follows: suppose that the result formatted with presentation type `'e'` and precision `p-1` would have exponent `exp`. Then, if `m <= exp < p`, where `m` is -4 for floats and -6 for `Decimals`, the number is formatted with presentation type `'f'` and precision `p-1-exp`. Otherwise, the number is formatted with presentation type `'e'` and precision `p-1`. In both cases insignificant trailing zeros are removed from the significand, and the decimal point is also removed if there are no remaining digits following it, unless the `'#'` option is used.<br/><br/>With no precision given, uses a precision of `6` significant digits for `float`. For `Decimal`, the coefficient of the result is formed from the coefficient digits of the value; scientific notation is used for values smaller than `1e-6` in absolute value and values where the place value of the least significant digit is larger than 1, and fixed-point notation is used otherwise.<br/><br/>Positive and negative infinity, positive and negative zero, and nans, are formatted as `inf`, `-inf`, `0`, `-0`, and `nan` respectively, regardless of the precision.\n",
    "`'G'` | General format. Same as `'g'` except switches to `'E'` if the number gets too large. The representations of infinity and NaN are uppercased, too.\n",
    "`'n'` | Number. This is the same as `'g'`, except that it uses the current locale setting to insert the appropriate number separator characters.\n",
    "`'%'` | Percentage. Multiplies the number by 100 and displays in fixed (`'f'`) format, followed by a percent sign.\n",
    "None | For float this is the same as `'g'`, except that when fixed-point notation is used to format the result, it always includes at least one digit past the decimal point. The precision used is as large as needed to represent the given value faithfully.<br/><br/>For `Decimal`, this is the same as either `'g'` or `'G'` depending on the value of `context.capitals` for the current decimal context.<br/><br/>The overall effect is to match the output of `str()` as altered by the other format modifiers."
   ]
  },
  {
   "cell_type": "code",
   "execution_count": null,
   "metadata": {},
   "outputs": [],
   "source": [
    "width = 16\n",
    "for align, text in zip('<^>', ['left', 'center', 'right']):\n",
    "    fill = align\n",
    "    print(f\"{text:{fill}{align}{width}}\")"
   ]
  }
 ],
 "metadata": {
  "kernelspec": {
   "display_name": "Python 3.10.5 ('.venv': venv)",
   "language": "python",
   "name": "python3"
  },
  "language_info": {
   "codemirror_mode": {
    "name": "ipython",
    "version": 3
   },
   "file_extension": ".py",
   "mimetype": "text/x-python",
   "name": "python",
   "nbconvert_exporter": "python",
   "pygments_lexer": "ipython3",
   "version": "3.10.5"
  },
  "orig_nbformat": 4,
  "vscode": {
   "interpreter": {
    "hash": "e63394eac7dd1acdbc771e1b6c9d81f499c645af5128fa34ee039dd7aa45a557"
   }
  }
 },
 "nbformat": 4,
 "nbformat_minor": 2
}
